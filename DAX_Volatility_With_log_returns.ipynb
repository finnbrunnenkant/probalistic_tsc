{
 "cells": [
  {
   "cell_type": "code",
   "execution_count": 137,
   "metadata": {},
   "outputs": [
    {
     "ename": "ImportError",
     "evalue": "cannot import name 'parse_version' from 'sklearn.utils.fixes' (/Applications/anaconda3/lib/python3.8/site-packages/sklearn/utils/fixes.py)",
     "output_type": "error",
     "traceback": [
      "\u001b[0;31m---------------------------------------------------------------------------\u001b[0m",
      "\u001b[0;31mImportError\u001b[0m                               Traceback (most recent call last)",
      "\u001b[0;32m<ipython-input-137-d3b7490e4478>\u001b[0m in \u001b[0;36m<module>\u001b[0;34m\u001b[0m\n\u001b[1;32m      8\u001b[0m \u001b[0;32mimport\u001b[0m \u001b[0msklearn\u001b[0m\u001b[0;34m\u001b[0m\u001b[0;34m\u001b[0m\u001b[0m\n\u001b[1;32m      9\u001b[0m \u001b[0;34m\u001b[0m\u001b[0m\n\u001b[0;32m---> 10\u001b[0;31m \u001b[0;32mfrom\u001b[0m \u001b[0msklearn\u001b[0m\u001b[0;34m.\u001b[0m\u001b[0mlinear_model\u001b[0m \u001b[0;32mimport\u001b[0m \u001b[0mQuantileRegressor\u001b[0m\u001b[0;34m\u001b[0m\u001b[0;34m\u001b[0m\u001b[0m\n\u001b[0m",
      "\u001b[0;32m/Applications/anaconda3/lib/python3.8/site-packages/sklearn/linear_model/QuantileRegressor.py\u001b[0m in \u001b[0;36m<module>\u001b[0;34m\u001b[0m\n\u001b[1;32m      8\u001b[0m \u001b[0;32mfrom\u001b[0m \u001b[0;34m.\u001b[0m\u001b[0;34m.\u001b[0m\u001b[0mexceptions\u001b[0m \u001b[0;32mimport\u001b[0m \u001b[0mConvergenceWarning\u001b[0m\u001b[0;34m\u001b[0m\u001b[0;34m\u001b[0m\u001b[0m\n\u001b[1;32m      9\u001b[0m \u001b[0;32mfrom\u001b[0m \u001b[0;34m.\u001b[0m\u001b[0;34m.\u001b[0m\u001b[0mutils\u001b[0m\u001b[0;34m.\u001b[0m\u001b[0mvalidation\u001b[0m \u001b[0;32mimport\u001b[0m \u001b[0m_check_sample_weight\u001b[0m\u001b[0;34m\u001b[0m\u001b[0;34m\u001b[0m\u001b[0m\n\u001b[0;32m---> 10\u001b[0;31m \u001b[0;32mfrom\u001b[0m \u001b[0;34m.\u001b[0m\u001b[0;34m.\u001b[0m\u001b[0mutils\u001b[0m\u001b[0;34m.\u001b[0m\u001b[0mfixes\u001b[0m \u001b[0;32mimport\u001b[0m \u001b[0msp_version\u001b[0m\u001b[0;34m,\u001b[0m \u001b[0mparse_version\u001b[0m\u001b[0;34m\u001b[0m\u001b[0;34m\u001b[0m\u001b[0m\n\u001b[0m\u001b[1;32m     11\u001b[0m \u001b[0;34m\u001b[0m\u001b[0m\n\u001b[1;32m     12\u001b[0m \u001b[0;34m\u001b[0m\u001b[0m\n",
      "\u001b[0;31mImportError\u001b[0m: cannot import name 'parse_version' from 'sklearn.utils.fixes' (/Applications/anaconda3/lib/python3.8/site-packages/sklearn/utils/fixes.py)"
     ]
    }
   ],
   "source": [
    "import numpy as np\n",
    "import pandas as pd\n",
    "import yfinance as yf \n",
    "\n",
    "import math\n",
    "import matplotlib as plt\n",
    "import matplotlib.pyplot as plt\n",
    "import sklearn\n",
    "\n",
    "from sklearn.linear_model import QuantileRegressor\n"
   ]
  },
  {
   "cell_type": "code",
   "execution_count": 78,
   "metadata": {},
   "outputs": [
    {
     "name": "stdout",
     "output_type": "stream",
     "text": [
      "[*********************100%***********************]  1 of 1 completed\n"
     ]
    }
   ],
   "source": [
    "data = yf.download(  # or pdr.get_data_yahoo(...\n",
    "        # tickers list or string as well\n",
    "        tickers = \"^GDAXI\")"
   ]
  },
  {
   "cell_type": "code",
   "execution_count": null,
   "metadata": {},
   "outputs": [],
   "source": [
    "# Data Import "
   ]
  },
  {
   "cell_type": "code",
   "execution_count": 79,
   "metadata": {},
   "outputs": [],
   "source": [
    "data_close = data['Close']\n",
    "\n",
    "#Roling Window 1000 Steps\n",
    "data_roling = data_close[-1000:]\n",
    "data_roling = data_close['1991-11-07':]\n",
    "\n",
    "#Expanding Window startig at 2017-11-07\n",
    "data_extending = data_close['2017-11-07':]\n"
   ]
  },
  {
   "cell_type": "code",
   "execution_count": 80,
   "metadata": {
    "scrolled": true
   },
   "outputs": [
    {
     "name": "stdout",
     "output_type": "stream",
     "text": [
      "Date\n",
      "2017-11-07    13379.269531\n",
      "2017-11-08    13382.419922\n",
      "2017-11-09    13182.559570\n",
      "2017-11-10    13127.469727\n",
      "2017-11-13    13074.419922\n",
      "                  ...     \n",
      "2021-10-18    15474.469727\n",
      "2021-10-19    15515.830078\n",
      "2021-10-20    15522.919922\n",
      "2021-10-21    15472.559570\n",
      "2021-10-22    15542.980469\n",
      "Name: Close, Length: 1000, dtype: float64\n"
     ]
    },
    {
     "data": {
      "text/plain": [
       "<matplotlib.axes._subplots.AxesSubplot at 0x7fae98a22c10>"
      ]
     },
     "execution_count": 80,
     "metadata": {},
     "output_type": "execute_result"
    },
    {
     "data": {
      "image/png": "[encoded data removed]",
      "text/plain": [
       "<Figure size 432x288 with 1 Axes>"
      ]
     },
     "metadata": {
      "needs_background": "light"
     },
     "output_type": "display_data"
    }
   ],
   "source": [
    "print(data_date)\n",
    "\n",
    "data_date.plot()"
   ]
  },
  {
   "cell_type": "code",
   "execution_count": 51,
   "metadata": {},
   "outputs": [],
   "source": [
    "#Return Function\n",
    "def compute_return(y, h):\n",
    "    n = len(y)\n",
    "    y2 = y[h] # exclude first h observations\n",
    "    y1 = y[0] # exclude last h observations # compute h-step cumulative returns\n",
    "    \n",
    "    return 100*(math.log(y2)-math.log(y1))\n",
    "\n"
   ]
  },
  {
   "cell_type": "code",
   "execution_count": 66,
   "metadata": {},
   "outputs": [
    {
     "data": {
      "text/plain": [
       "Date\n",
       "2017-11-07    13379.269531\n",
       "2017-11-08    13382.419922\n",
       "2017-11-09    13182.559570\n",
       "2017-11-10    13127.469727\n",
       "2017-11-13    13074.419922\n",
       "                  ...     \n",
       "2021-10-18    15474.469727\n",
       "2021-10-19    15515.830078\n",
       "2021-10-20    15522.919922\n",
       "2021-10-21    15472.559570\n",
       "2021-10-22    15542.980469\n",
       "Name: Close, Length: 1000, dtype: float64"
      ]
     },
     "execution_count": 66,
     "metadata": {},
     "output_type": "execute_result"
    }
   ],
   "source": [
    "data_roling"
   ]
  },
  {
   "cell_type": "code",
   "execution_count": 82,
   "metadata": {},
   "outputs": [
    {
     "name": "stdout",
     "output_type": "stream",
     "text": [
      "[[-0.3122546   1.15702323 -0.52977532 ...  0.67449211  1.38931091\n",
      "   0.80284041]\n",
      " [ 0.84476863  0.62724791  0.19932766 ...  2.06380302  2.19215132\n",
      "   0.07596036]\n",
      " [ 0.31499331  1.35635089  0.19256775 ...  2.86664343  1.46527127\n",
      "   0.34288502]\n",
      " [ 1.04409629  1.34959098 -1.12339255 ...  2.13976338  1.73219593\n",
      "   0.38856885]\n",
      " [ 1.03733639  0.03363068 -2.12484052 ...  2.40668804  1.77787976\n",
      "   0.06361568]]\n"
     ]
    }
   ],
   "source": [
    "returns_1 = []\n",
    "returns_2 = []\n",
    "returns_3 = []\n",
    "returns_4 = []\n",
    "returns_5 = []\n",
    "\n",
    "\n",
    "\n",
    "for i in range(1,(len(data_roling)-6)):\n",
    "        \n",
    "        returns1 = compute_return(data_roling[i:i+6], 1)\n",
    "        returns2 = compute_return(data_roling[i:i+6], 2)\n",
    "        returns3 = compute_return(data_roling[i:i+6], 3)\n",
    "        returns4 = compute_return(data_roling[i:i+6], 4)\n",
    "        returns5 = compute_return(data_roling[i:i+6], 5)\n",
    "        \n",
    "        dates = data_roling\n",
    "        returns_1.append(returns1)\n",
    "        returns_2.append(returns2)\n",
    "        returns_3.append(returns3)\n",
    "        returns_4.append(returns4)\n",
    "        returns_5.append(returns5)\n",
    "        \n",
    "  \n",
    "\n",
    "\n",
    "\n",
    "A = np.array([ \n",
    "               returns_1, \n",
    "               returns_2,\n",
    "               returns_3,\n",
    "               returns_4,\n",
    "               returns_5,])\n",
    "print(A)"
   ]
  },
  {
   "cell_type": "code",
   "execution_count": 83,
   "metadata": {},
   "outputs": [
    {
     "data": {
      "image/png": "[encoded data removed]",
      "text/plain": [
       "<Figure size 432x288 with 1 Axes>"
      ]
     },
     "metadata": {
      "needs_background": "light"
     },
     "output_type": "display_data"
    }
   ],
   "source": [
    "plt.plot(A[0], '.')\n",
    "plt.show()"
   ]
  },
  {
   "cell_type": "code",
   "execution_count": 84,
   "metadata": {},
   "outputs": [
    {
     "data": {
      "text/plain": [
       "Date\n",
       "1991-11-07     1582.060059\n",
       "1991-11-08     1610.180054\n",
       "1991-11-11     1605.160034\n",
       "1991-11-12     1623.839966\n",
       "1991-11-13     1615.260010\n",
       "                  ...     \n",
       "2021-10-18    15474.469727\n",
       "2021-10-19    15515.830078\n",
       "2021-10-20    15522.919922\n",
       "2021-10-21    15472.559570\n",
       "2021-10-22    15542.980469\n",
       "Name: Close, Length: 7578, dtype: float64"
      ]
     },
     "execution_count": 84,
     "metadata": {},
     "output_type": "execute_result"
    }
   ],
   "source": [
    "data_roling"
   ]
  },
  {
   "cell_type": "code",
   "execution_count": 125,
   "metadata": {},
   "outputs": [
    {
     "name": "stdout",
     "output_type": "stream",
     "text": [
      "[-2.938866472014867, -0.6203827477669677, 0.08346467844999594, 0.7385954587689092, 2.7410086401449707, -4.32354793919596, -0.9127476677154966, 0.15609068928839065, 1.115226755871923, 3.839518052181967, -5.255931496947319, -1.0672104646499925, 0.24113470645374946, 1.418708632334642, 4.561335861120686, -5.856052825009028, -1.223231720872242, 0.2859527797387962, 1.6497172618277212, 5.206527026715468, -6.497053735192226, -1.3560369602477085, 0.376113892079033, 1.8997823626831334, 5.7215129312152335]\n",
      "[[-2.93886647 -0.62038275  0.08346468  0.73859546  2.74100864]\n",
      " [-4.32354794 -0.91274767  0.15609069  1.11522676  3.83951805]\n",
      " [-5.2559315  -1.06721046  0.24113471  1.41870863  4.56133586]\n",
      " [-5.85605283 -1.22323172  0.28595278  1.64971726  5.20652703]\n",
      " [-6.49705374 -1.35603696  0.37611389  1.89978236  5.72151293]]\n"
     ]
    }
   ],
   "source": [
    "tau = [2.5, 25, 50, 75, 97.5]\n",
    "\n",
    "pred_baseline = []\n",
    "\n",
    "df = pd.DataFrame()\n",
    "\n",
    "for i in range(0,5) : \n",
    "    \n",
    "    for j in range(0,5): \n",
    "        pred_baseline.append(np.percentile(A[i], tau[j]))\n",
    "        \n",
    "      \n",
    "\n",
    "  \n",
    "  \n",
    "print(pred_baseline)    \n",
    "    \n",
    "pred_baseline = pred_baseline    \n",
    "x = np.reshape(pred_baseline, (5, 5))\n",
    "\n",
    "print(x)\n",
    "pred_baseline = x"
   ]
  },
  {
   "cell_type": "code",
   "execution_count": 128,
   "metadata": {},
   "outputs": [
    {
     "ename": "ValueError",
     "evalue": "The truth value of an array with more than one element is ambiguous. Use a.any() or a.all()",
     "output_type": "error",
     "traceback": [
      "\u001b[0;31m---------------------------------------------------------------------------\u001b[0m",
      "\u001b[0;31mValueError\u001b[0m                                Traceback (most recent call last)",
      "\u001b[0;32m<ipython-input-128-297432e5a4be>\u001b[0m in \u001b[0;36m<module>\u001b[0;34m\u001b[0m\n\u001b[0;32m----> 1\u001b[0;31m \u001b[0mplt\u001b[0m\u001b[0;34m.\u001b[0m\u001b[0mshow\u001b[0m\u001b[0;34m(\u001b[0m\u001b[0mx\u001b[0m\u001b[0;34m)\u001b[0m\u001b[0;34m\u001b[0m\u001b[0;34m\u001b[0m\u001b[0m\n\u001b[0m",
      "\u001b[0;32m/Applications/anaconda3/lib/python3.8/site-packages/matplotlib/pyplot.py\u001b[0m in \u001b[0;36mshow\u001b[0;34m(*args, **kw)\u001b[0m\n\u001b[1;32m    270\u001b[0m     \"\"\"\n\u001b[1;32m    271\u001b[0m     \u001b[0;32mglobal\u001b[0m \u001b[0m_show\u001b[0m\u001b[0;34m\u001b[0m\u001b[0;34m\u001b[0m\u001b[0m\n\u001b[0;32m--> 272\u001b[0;31m     \u001b[0;32mreturn\u001b[0m \u001b[0m_show\u001b[0m\u001b[0;34m(\u001b[0m\u001b[0;34m*\u001b[0m\u001b[0margs\u001b[0m\u001b[0;34m,\u001b[0m \u001b[0;34m**\u001b[0m\u001b[0mkw\u001b[0m\u001b[0;34m)\u001b[0m\u001b[0;34m\u001b[0m\u001b[0;34m\u001b[0m\u001b[0m\n\u001b[0m\u001b[1;32m    273\u001b[0m \u001b[0;34m\u001b[0m\u001b[0m\n\u001b[1;32m    274\u001b[0m \u001b[0;34m\u001b[0m\u001b[0m\n",
      "\u001b[0;32m/Applications/anaconda3/lib/python3.8/site-packages/ipykernel/pylab/backend_inline.py\u001b[0m in \u001b[0;36mshow\u001b[0;34m(close, block)\u001b[0m\n\u001b[1;32m     47\u001b[0m         \u001b[0;31m# only call close('all') if any to close\u001b[0m\u001b[0;34m\u001b[0m\u001b[0;34m\u001b[0m\u001b[0;34m\u001b[0m\u001b[0m\n\u001b[1;32m     48\u001b[0m         \u001b[0;31m# close triggers gc.collect, which can be slow\u001b[0m\u001b[0;34m\u001b[0m\u001b[0;34m\u001b[0m\u001b[0;34m\u001b[0m\u001b[0m\n\u001b[0;32m---> 49\u001b[0;31m         \u001b[0;32mif\u001b[0m \u001b[0mclose\u001b[0m \u001b[0;32mand\u001b[0m \u001b[0mGcf\u001b[0m\u001b[0;34m.\u001b[0m\u001b[0mget_all_fig_managers\u001b[0m\u001b[0;34m(\u001b[0m\u001b[0;34m)\u001b[0m\u001b[0;34m:\u001b[0m\u001b[0;34m\u001b[0m\u001b[0;34m\u001b[0m\u001b[0m\n\u001b[0m\u001b[1;32m     50\u001b[0m             \u001b[0mmatplotlib\u001b[0m\u001b[0;34m.\u001b[0m\u001b[0mpyplot\u001b[0m\u001b[0;34m.\u001b[0m\u001b[0mclose\u001b[0m\u001b[0;34m(\u001b[0m\u001b[0;34m'all'\u001b[0m\u001b[0;34m)\u001b[0m\u001b[0;34m\u001b[0m\u001b[0;34m\u001b[0m\u001b[0m\n\u001b[1;32m     51\u001b[0m \u001b[0;34m\u001b[0m\u001b[0m\n",
      "\u001b[0;31mValueError\u001b[0m: The truth value of an array with more than one element is ambiguous. Use a.any() or a.all()"
     ]
    }
   ],
   "source": [
    "#quantile Regression \n",
    "\n",
    "\n",
    "\n",
    "\n",
    "quantiles = [0.05, 0.5, 0.95]\n",
    "predictions = {}\n",
    "out_bounds_predictions = np.zeros_like(y_true_mean, dtype=np.bool_)\n",
    "for quantile in quantiles:\n",
    "    qr = QuantileRegressor(quantile=quantile, alpha=0)\n",
    "    y_pred = qr.fit(X, y_normal).predict(X)\n",
    "    predictions[quantile] = y_pred\n",
    "\n",
    "    if quantile == min(quantiles):\n",
    "        out_bounds_predictions = np.logical_or(\n",
    "            out_bounds_predictions, y_pred >= y_normal\n",
    "        )\n",
    "    elif quantile == max(quantiles):\n",
    "        out_bounds_predictions = np.logical_or(\n",
    "            out_bounds_predictions, y_pred <= y_normal\n",
    "        )"
   ]
  },
  {
   "cell_type": "code",
   "execution_count": null,
   "metadata": {},
   "outputs": [],
   "source": []
  }
 ],
 "metadata": {
  "kernelspec": {
   "display_name": "Python 3",
   "language": "python",
   "name": "python3"
  },
  "language_info": {
   "codemirror_mode": {
    "name": "ipython",
    "version": 3
   },
   "file_extension": ".py",
   "mimetype": "text/x-python",
   "name": "python",
   "nbconvert_exporter": "python",
   "pygments_lexer": "ipython3",
   "version": "3.8.3"
  }
 },
 "nbformat": 4,
 "nbformat_minor": 4
}
