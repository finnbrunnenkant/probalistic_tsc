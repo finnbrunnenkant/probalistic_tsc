{
 "cells": [
  {
   "cell_type": "code",
   "execution_count": 1,
   "metadata": {},
   "outputs": [],
   "source": [
    "import numpy as np\n",
    "import pandas as pd\n",
    "import yfinance as yf \n",
    "\n",
    "import math\n",
    "import matplotlib as plt\n",
    "import matplotlib.pyplot as plt\n",
    "import sklearn\n",
    "\n",
    "from sklearn.linear_model import QuantileRegressor\n",
    "import pandas as pd\n",
    "import numpy as np\n",
    "\n",
    "import matplotlib as mpl\n",
    "import matplotlib.pyplot as plt\n",
    "import seaborn as sns\n",
    "\n",
    "import statsmodels.api as sm\n",
    "\n",
    "from scipy.stats import norm\n",
    "\n",
    "from sklearn import ensemble\n",
    "\n",
    "import tensorflow as tf\n",
    "from tensorflow import keras"
   ]
  },
  {
   "cell_type": "code",
   "execution_count": 3,
   "metadata": {},
   "outputs": [],
   "source": [
    "def quantile_score(q,y,f):\n",
    "    if f>y:\n",
    "        score = 2*(1-q)*(f-y)\n",
    "    else:\n",
    "        score = 2*q*(y-f) \n",
    "    return score       "
   ]
  },
  {
   "cell_type": "code",
   "execution_count": 4,
   "metadata": {},
   "outputs": [
    {
     "name": "stdout",
     "output_type": "stream",
     "text": [
      "[*********************100%***********************]  1 of 1 completed\n"
     ]
    }
   ],
   "source": [
    "df_dax = yf.download(  # or pdr.get_data_yahoo(...\n",
    "        # tickers list or string as well\n",
    "        tickers = \"^GDAXI\")"
   ]
  },
  {
   "cell_type": "code",
   "execution_count": 5,
   "metadata": {},
   "outputs": [],
   "source": [
    "# Data Import \n",
    "dax_5days = pd.read_pickle(\"/Users/finnbrunnenkant/Desktop/Master KIT/Semester 4/Probalistic TS/DAX/Dataframes/dax_fivedays\")\n",
    "vix_5days= pd.read_pickle(\"/Users/finnbrunnenkant/Desktop/Master KIT/Semester 4/Probalistic TS/DAX/Dataframes/vix_fivedays\")\n",
    "df_returns= pd.read_pickle(\"/Users/finnbrunnenkant/Desktop/Master KIT/Semester 4/Probalistic TS/DAX/Dataframes/vix_fivedays\")"
   ]
  },
  {
   "cell_type": "code",
   "execution_count": 49,
   "metadata": {},
   "outputs": [
    {
     "data": {
      "text/html": [
       "<div>\n",
       "<style scoped>\n",
       "    .dataframe tbody tr th:only-of-type {\n",
       "        vertical-align: middle;\n",
       "    }\n",
       "\n",
       "    .dataframe tbody tr th {\n",
       "        vertical-align: top;\n",
       "    }\n",
       "\n",
       "    .dataframe thead th {\n",
       "        text-align: right;\n",
       "    }\n",
       "</style>\n",
       "<table border=\"1\" class=\"dataframe\">\n",
       "  <thead>\n",
       "    <tr style=\"text-align: right;\">\n",
       "      <th></th>\n",
       "      <th>Open</th>\n",
       "      <th>High</th>\n",
       "      <th>Low</th>\n",
       "      <th>Close</th>\n",
       "      <th>Adj Close</th>\n",
       "      <th>Volume</th>\n",
       "      <th>1Day Return</th>\n",
       "      <th>2Day Return</th>\n",
       "      <th>3Day Return</th>\n",
       "      <th>4Day Return</th>\n",
       "      <th>5Day Return</th>\n",
       "      <th>vix</th>\n",
       "    </tr>\n",
       "    <tr>\n",
       "      <th>Date</th>\n",
       "      <th></th>\n",
       "      <th></th>\n",
       "      <th></th>\n",
       "      <th></th>\n",
       "      <th></th>\n",
       "      <th></th>\n",
       "      <th></th>\n",
       "      <th></th>\n",
       "      <th></th>\n",
       "      <th></th>\n",
       "      <th></th>\n",
       "      <th></th>\n",
       "    </tr>\n",
       "  </thead>\n",
       "  <tbody>\n",
       "    <tr>\n",
       "      <th>1987-12-30</th>\n",
       "      <td>1005.190002</td>\n",
       "      <td>1005.190002</td>\n",
       "      <td>1005.190002</td>\n",
       "      <td>1005.190002</td>\n",
       "      <td>1005.190002</td>\n",
       "      <td>0</td>\n",
       "      <td>4.057731</td>\n",
       "      <td>5.047698</td>\n",
       "      <td>5.885123</td>\n",
       "      <td>7.082493</td>\n",
       "      <td>3.192645</td>\n",
       "      <td>NaN</td>\n",
       "    </tr>\n",
       "    <tr>\n",
       "      <th>1988-01-04</th>\n",
       "      <td>956.489990</td>\n",
       "      <td>956.489990</td>\n",
       "      <td>956.489990</td>\n",
       "      <td>956.489990</td>\n",
       "      <td>956.489990</td>\n",
       "      <td>0</td>\n",
       "      <td>0.989967</td>\n",
       "      <td>1.827393</td>\n",
       "      <td>3.024763</td>\n",
       "      <td>-0.865086</td>\n",
       "      <td>-0.928903</td>\n",
       "      <td>NaN</td>\n",
       "    </tr>\n",
       "    <tr>\n",
       "      <th>1988-01-05</th>\n",
       "      <td>996.099976</td>\n",
       "      <td>996.099976</td>\n",
       "      <td>996.099976</td>\n",
       "      <td>996.099976</td>\n",
       "      <td>996.099976</td>\n",
       "      <td>0</td>\n",
       "      <td>0.837426</td>\n",
       "      <td>2.034796</td>\n",
       "      <td>-1.855053</td>\n",
       "      <td>-1.918870</td>\n",
       "      <td>-4.082157</td>\n",
       "      <td>NaN</td>\n",
       "    </tr>\n",
       "    <tr>\n",
       "      <th>1988-01-06</th>\n",
       "      <td>1006.010010</td>\n",
       "      <td>1006.010010</td>\n",
       "      <td>1006.010010</td>\n",
       "      <td>1006.010010</td>\n",
       "      <td>1006.010010</td>\n",
       "      <td>0</td>\n",
       "      <td>1.197370</td>\n",
       "      <td>-2.692479</td>\n",
       "      <td>-2.756296</td>\n",
       "      <td>-4.919583</td>\n",
       "      <td>-4.023806</td>\n",
       "      <td>NaN</td>\n",
       "    </tr>\n",
       "    <tr>\n",
       "      <th>1988-01-07</th>\n",
       "      <td>1014.469971</td>\n",
       "      <td>1014.469971</td>\n",
       "      <td>1014.469971</td>\n",
       "      <td>1014.469971</td>\n",
       "      <td>1014.469971</td>\n",
       "      <td>0</td>\n",
       "      <td>-3.889849</td>\n",
       "      <td>-3.953666</td>\n",
       "      <td>-6.116953</td>\n",
       "      <td>-5.221176</td>\n",
       "      <td>-7.504712</td>\n",
       "      <td>NaN</td>\n",
       "    </tr>\n",
       "    <tr>\n",
       "      <th>...</th>\n",
       "      <td>...</td>\n",
       "      <td>...</td>\n",
       "      <td>...</td>\n",
       "      <td>...</td>\n",
       "      <td>...</td>\n",
       "      <td>...</td>\n",
       "      <td>...</td>\n",
       "      <td>...</td>\n",
       "      <td>...</td>\n",
       "      <td>...</td>\n",
       "      <td>...</td>\n",
       "      <td>...</td>\n",
       "    </tr>\n",
       "    <tr>\n",
       "      <th>2022-01-17</th>\n",
       "      <td>15948.900391</td>\n",
       "      <td>15962.700195</td>\n",
       "      <td>15894.769531</td>\n",
       "      <td>15933.719727</td>\n",
       "      <td>15933.719727</td>\n",
       "      <td>46576400</td>\n",
       "      <td>NaN</td>\n",
       "      <td>NaN</td>\n",
       "      <td>NaN</td>\n",
       "      <td>NaN</td>\n",
       "      <td>NaN</td>\n",
       "      <td>22.635000</td>\n",
       "    </tr>\n",
       "    <tr>\n",
       "      <th>2022-01-18</th>\n",
       "      <td>15839.150391</td>\n",
       "      <td>15843.580078</td>\n",
       "      <td>15669.349609</td>\n",
       "      <td>15772.559570</td>\n",
       "      <td>15772.559570</td>\n",
       "      <td>70557600</td>\n",
       "      <td>NaN</td>\n",
       "      <td>NaN</td>\n",
       "      <td>NaN</td>\n",
       "      <td>NaN</td>\n",
       "      <td>NaN</td>\n",
       "      <td>23.200001</td>\n",
       "    </tr>\n",
       "    <tr>\n",
       "      <th>2022-01-19</th>\n",
       "      <td>15639.450195</td>\n",
       "      <td>15898.049805</td>\n",
       "      <td>15629.860352</td>\n",
       "      <td>15809.719727</td>\n",
       "      <td>15809.719727</td>\n",
       "      <td>74923900</td>\n",
       "      <td>NaN</td>\n",
       "      <td>NaN</td>\n",
       "      <td>NaN</td>\n",
       "      <td>NaN</td>\n",
       "      <td>NaN</td>\n",
       "      <td>23.990000</td>\n",
       "    </tr>\n",
       "    <tr>\n",
       "      <th>2022-01-20</th>\n",
       "      <td>15837.240234</td>\n",
       "      <td>15912.330078</td>\n",
       "      <td>15737.330078</td>\n",
       "      <td>15912.330078</td>\n",
       "      <td>15912.330078</td>\n",
       "      <td>62979800</td>\n",
       "      <td>NaN</td>\n",
       "      <td>NaN</td>\n",
       "      <td>NaN</td>\n",
       "      <td>NaN</td>\n",
       "      <td>NaN</td>\n",
       "      <td>25.889999</td>\n",
       "    </tr>\n",
       "    <tr>\n",
       "      <th>2022-01-21</th>\n",
       "      <td>15694.820312</td>\n",
       "      <td>15728.290039</td>\n",
       "      <td>15456.870117</td>\n",
       "      <td>15603.879883</td>\n",
       "      <td>15603.879883</td>\n",
       "      <td>105899500</td>\n",
       "      <td>NaN</td>\n",
       "      <td>NaN</td>\n",
       "      <td>NaN</td>\n",
       "      <td>NaN</td>\n",
       "      <td>NaN</td>\n",
       "      <td>29.790001</td>\n",
       "    </tr>\n",
       "  </tbody>\n",
       "</table>\n",
       "<p>8605 rows × 12 columns</p>\n",
       "</div>"
      ],
      "text/plain": [
       "                    Open          High           Low         Close  \\\n",
       "Date                                                                 \n",
       "1987-12-30   1005.190002   1005.190002   1005.190002   1005.190002   \n",
       "1988-01-04    956.489990    956.489990    956.489990    956.489990   \n",
       "1988-01-05    996.099976    996.099976    996.099976    996.099976   \n",
       "1988-01-06   1006.010010   1006.010010   1006.010010   1006.010010   \n",
       "1988-01-07   1014.469971   1014.469971   1014.469971   1014.469971   \n",
       "...                  ...           ...           ...           ...   \n",
       "2022-01-17  15948.900391  15962.700195  15894.769531  15933.719727   \n",
       "2022-01-18  15839.150391  15843.580078  15669.349609  15772.559570   \n",
       "2022-01-19  15639.450195  15898.049805  15629.860352  15809.719727   \n",
       "2022-01-20  15837.240234  15912.330078  15737.330078  15912.330078   \n",
       "2022-01-21  15694.820312  15728.290039  15456.870117  15603.879883   \n",
       "\n",
       "               Adj Close     Volume  1Day Return  2Day Return  3Day Return  \\\n",
       "Date                                                                         \n",
       "1987-12-30   1005.190002          0     4.057731     5.047698     5.885123   \n",
       "1988-01-04    956.489990          0     0.989967     1.827393     3.024763   \n",
       "1988-01-05    996.099976          0     0.837426     2.034796    -1.855053   \n",
       "1988-01-06   1006.010010          0     1.197370    -2.692479    -2.756296   \n",
       "1988-01-07   1014.469971          0    -3.889849    -3.953666    -6.116953   \n",
       "...                  ...        ...          ...          ...          ...   \n",
       "2022-01-17  15933.719727   46576400          NaN          NaN          NaN   \n",
       "2022-01-18  15772.559570   70557600          NaN          NaN          NaN   \n",
       "2022-01-19  15809.719727   74923900          NaN          NaN          NaN   \n",
       "2022-01-20  15912.330078   62979800          NaN          NaN          NaN   \n",
       "2022-01-21  15603.879883  105899500          NaN          NaN          NaN   \n",
       "\n",
       "            4Day Return  5Day Return        vix  \n",
       "Date                                             \n",
       "1987-12-30     7.082493     3.192645        NaN  \n",
       "1988-01-04    -0.865086    -0.928903        NaN  \n",
       "1988-01-05    -1.918870    -4.082157        NaN  \n",
       "1988-01-06    -4.919583    -4.023806        NaN  \n",
       "1988-01-07    -5.221176    -7.504712        NaN  \n",
       "...                 ...          ...        ...  \n",
       "2022-01-17          NaN          NaN  22.635000  \n",
       "2022-01-18          NaN          NaN  23.200001  \n",
       "2022-01-19          NaN          NaN  23.990000  \n",
       "2022-01-20          NaN          NaN  25.889999  \n",
       "2022-01-21          NaN          NaN  29.790001  \n",
       "\n",
       "[8605 rows x 12 columns]"
      ]
     },
     "execution_count": 49,
     "metadata": {},
     "output_type": "execute_result"
    }
   ],
   "source": [
    "\n",
    "\n",
    "df_dax[\"vix\"] = df_dax[\"vix\"].interpolate(method='linear', limit_direction='forward', axis=0)\n",
    "\n",
    "\n",
    "\n",
    "\n"
   ]
  },
  {
   "cell_type": "code",
   "execution_count": 8,
   "metadata": {},
   "outputs": [],
   "source": [
    "# pandas version rather than Keras.\n",
    "def quantile_loss(q, y, f):\n",
    "    # q: Quantile to be evaluated, e.g., 0.5 for median.\n",
    "    # y: True value.\n",
    "    # f: Fitted or predicted value.\n",
    "    e = y - f\n",
    "    return np.maximum(q * e, (q - 1) * e)\n",
    "\n",
    "def tilted_loss(q, y, f):\n",
    "    e = (y - f)\n",
    "    return keras.backend.mean(keras.backend.maximum(q * e, (q - 1) * e), \n",
    "                              axis=-1)\n"
   ]
  },
  {
   "cell_type": "code",
   "execution_count": 9,
   "metadata": {},
   "outputs": [],
   "source": [
    "optimizer = tf.optimizers.Adam(0.001)\n",
    "\n",
    "early_stop = keras.callbacks.EarlyStopping(monitor='val_loss', patience=20)"
   ]
  },
  {
   "cell_type": "code",
   "execution_count": 21,
   "metadata": {},
   "outputs": [],
   "source": [
    "x_train = df_dax[\"vix\"][\"1990-01-02\":\"2021-07-01\"]\n",
    "x_test = df_dax[\"vix\"][\"2021-07-01\":]\n",
    "\n",
    "y_train = df_dax[\"1Day Return\"][\"1990-01-02\":\"2021-07-01\"]\n",
    "y_test = df_dax[\"1Day Return\"][\"2021-07-01\":]"
   ]
  },
  {
   "cell_type": "code",
   "execution_count": 28,
   "metadata": {},
   "outputs": [],
   "source": [
    "EPOCHS = 200\n",
    "BATCH_SIZE = 32\n",
    "UNITS = 512"
   ]
  },
  {
   "cell_type": "code",
   "execution_count": 16,
   "metadata": {},
   "outputs": [],
   "source": [
    "def gb_quantilekeras_pred(x_train, train_labels, q):\n",
    "    print(q)\n",
    "    # Set input_dim for the number of features.\n",
    "    if len(x_train.shape) == 1:\n",
    "        input_dim = 1\n",
    "    else:\n",
    "        input_dim = x_train.shape[1]\n",
    "    model = keras.Sequential([\n",
    "      keras.layers.Dense(UNITS, activation=tf.nn.relu,\n",
    "                         input_dim=input_dim),\n",
    "      keras.layers.Dense(UNITS, activation=tf.nn.relu),\n",
    "      keras.layers.Dense(1)\n",
    "    ])\n",
    "    \n",
    "    model.compile(loss=lambda y, f: tilted_loss(q, y, f), optimizer=optimizer)\n",
    "    model.fit(x_train, train_labels, epochs=EPOCHS, batch_size=BATCH_SIZE,\n",
    "              verbose=0, validation_split=0.2, callbacks=[early_stop])\n",
    "    \n",
    "    # Predict the quantile\n",
    "    return model"
   ]
  },
  {
   "cell_type": "code",
   "execution_count": 17,
   "metadata": {},
   "outputs": [],
   "source": [
    "N_ESTIMATORS = 1000\n",
    "def gb_quantile(X_train, train_labels,X, q):\n",
    "    gbf = ensemble.GradientBoostingRegressor(loss='quantile', alpha=q,\n",
    "                                             n_estimators=N_ESTIMATORS,\n",
    "                                             max_depth=3,\n",
    "                                             learning_rate=0.1, min_samples_leaf=9,\n",
    "                                             min_samples_split=9)\n",
    "    gbf.fit(X_train, train_labels)\n",
    "    return gbf, gbf.predict(X)"
   ]
  },
  {
   "cell_type": "code",
   "execution_count": 13,
   "metadata": {},
   "outputs": [
    {
     "data": {
      "text/html": [
       "<div>\n",
       "<style scoped>\n",
       "    .dataframe tbody tr th:only-of-type {\n",
       "        vertical-align: middle;\n",
       "    }\n",
       "\n",
       "    .dataframe tbody tr th {\n",
       "        vertical-align: top;\n",
       "    }\n",
       "\n",
       "    .dataframe thead th {\n",
       "        text-align: right;\n",
       "    }\n",
       "</style>\n",
       "<table border=\"1\" class=\"dataframe\">\n",
       "  <thead>\n",
       "    <tr style=\"text-align: right;\">\n",
       "      <th></th>\n",
       "      <th>Open</th>\n",
       "      <th>High</th>\n",
       "      <th>Low</th>\n",
       "      <th>Close</th>\n",
       "      <th>Adj Close</th>\n",
       "      <th>Volume</th>\n",
       "    </tr>\n",
       "    <tr>\n",
       "      <th>Date</th>\n",
       "      <th></th>\n",
       "      <th></th>\n",
       "      <th></th>\n",
       "      <th></th>\n",
       "      <th></th>\n",
       "      <th></th>\n",
       "    </tr>\n",
       "  </thead>\n",
       "  <tbody>\n",
       "    <tr>\n",
       "      <th>1987-12-30</th>\n",
       "      <td>1005.190002</td>\n",
       "      <td>1005.190002</td>\n",
       "      <td>1005.190002</td>\n",
       "      <td>1005.190002</td>\n",
       "      <td>1005.190002</td>\n",
       "      <td>0</td>\n",
       "    </tr>\n",
       "    <tr>\n",
       "      <th>1988-01-04</th>\n",
       "      <td>956.489990</td>\n",
       "      <td>956.489990</td>\n",
       "      <td>956.489990</td>\n",
       "      <td>956.489990</td>\n",
       "      <td>956.489990</td>\n",
       "      <td>0</td>\n",
       "    </tr>\n",
       "    <tr>\n",
       "      <th>1988-01-05</th>\n",
       "      <td>996.099976</td>\n",
       "      <td>996.099976</td>\n",
       "      <td>996.099976</td>\n",
       "      <td>996.099976</td>\n",
       "      <td>996.099976</td>\n",
       "      <td>0</td>\n",
       "    </tr>\n",
       "    <tr>\n",
       "      <th>1988-01-06</th>\n",
       "      <td>1006.010010</td>\n",
       "      <td>1006.010010</td>\n",
       "      <td>1006.010010</td>\n",
       "      <td>1006.010010</td>\n",
       "      <td>1006.010010</td>\n",
       "      <td>0</td>\n",
       "    </tr>\n",
       "    <tr>\n",
       "      <th>1988-01-07</th>\n",
       "      <td>1014.469971</td>\n",
       "      <td>1014.469971</td>\n",
       "      <td>1014.469971</td>\n",
       "      <td>1014.469971</td>\n",
       "      <td>1014.469971</td>\n",
       "      <td>0</td>\n",
       "    </tr>\n",
       "    <tr>\n",
       "      <th>...</th>\n",
       "      <td>...</td>\n",
       "      <td>...</td>\n",
       "      <td>...</td>\n",
       "      <td>...</td>\n",
       "      <td>...</td>\n",
       "      <td>...</td>\n",
       "    </tr>\n",
       "    <tr>\n",
       "      <th>2022-01-27</th>\n",
       "      <td>15229.980469</td>\n",
       "      <td>15582.450195</td>\n",
       "      <td>15197.530273</td>\n",
       "      <td>15524.269531</td>\n",
       "      <td>15524.269531</td>\n",
       "      <td>105993600</td>\n",
       "    </tr>\n",
       "    <tr>\n",
       "      <th>2022-01-28</th>\n",
       "      <td>15411.860352</td>\n",
       "      <td>15416.589844</td>\n",
       "      <td>15122.650391</td>\n",
       "      <td>15318.950195</td>\n",
       "      <td>15318.950195</td>\n",
       "      <td>91381200</td>\n",
       "    </tr>\n",
       "    <tr>\n",
       "      <th>2022-01-31</th>\n",
       "      <td>15506.790039</td>\n",
       "      <td>15566.379883</td>\n",
       "      <td>15338.190430</td>\n",
       "      <td>15471.200195</td>\n",
       "      <td>15471.200195</td>\n",
       "      <td>88305600</td>\n",
       "    </tr>\n",
       "    <tr>\n",
       "      <th>2022-02-01</th>\n",
       "      <td>15620.559570</td>\n",
       "      <td>15687.959961</td>\n",
       "      <td>15537.049805</td>\n",
       "      <td>15619.389648</td>\n",
       "      <td>15619.389648</td>\n",
       "      <td>74929400</td>\n",
       "    </tr>\n",
       "    <tr>\n",
       "      <th>2022-02-02</th>\n",
       "      <td>15689.160156</td>\n",
       "      <td>15736.519531</td>\n",
       "      <td>15645.080078</td>\n",
       "      <td>15678.160156</td>\n",
       "      <td>15678.160156</td>\n",
       "      <td>0</td>\n",
       "    </tr>\n",
       "  </tbody>\n",
       "</table>\n",
       "<p>8613 rows × 6 columns</p>\n",
       "</div>"
      ],
      "text/plain": [
       "                    Open          High           Low         Close  \\\n",
       "Date                                                                 \n",
       "1987-12-30   1005.190002   1005.190002   1005.190002   1005.190002   \n",
       "1988-01-04    956.489990    956.489990    956.489990    956.489990   \n",
       "1988-01-05    996.099976    996.099976    996.099976    996.099976   \n",
       "1988-01-06   1006.010010   1006.010010   1006.010010   1006.010010   \n",
       "1988-01-07   1014.469971   1014.469971   1014.469971   1014.469971   \n",
       "...                  ...           ...           ...           ...   \n",
       "2022-01-27  15229.980469  15582.450195  15197.530273  15524.269531   \n",
       "2022-01-28  15411.860352  15416.589844  15122.650391  15318.950195   \n",
       "2022-01-31  15506.790039  15566.379883  15338.190430  15471.200195   \n",
       "2022-02-01  15620.559570  15687.959961  15537.049805  15619.389648   \n",
       "2022-02-02  15689.160156  15736.519531  15645.080078  15678.160156   \n",
       "\n",
       "               Adj Close     Volume  \n",
       "Date                                 \n",
       "1987-12-30   1005.190002          0  \n",
       "1988-01-04    956.489990          0  \n",
       "1988-01-05    996.099976          0  \n",
       "1988-01-06   1006.010010          0  \n",
       "1988-01-07   1014.469971          0  \n",
       "...                  ...        ...  \n",
       "2022-01-27  15524.269531  105993600  \n",
       "2022-01-28  15318.950195   91381200  \n",
       "2022-01-31  15471.200195   88305600  \n",
       "2022-02-01  15619.389648   74929400  \n",
       "2022-02-02  15678.160156          0  \n",
       "\n",
       "[8613 rows x 6 columns]"
      ]
     },
     "execution_count": 13,
     "metadata": {},
     "output_type": "execute_result"
    }
   ],
   "source": [
    "df_dax[]"
   ]
  },
  {
   "cell_type": "code",
   "execution_count": 52,
   "metadata": {},
   "outputs": [
    {
     "data": {
      "text/plain": [
       "Date\n",
       "2021-11-10    19.900000\n",
       "2021-11-11    18.389999\n",
       "2021-11-12    17.690001\n",
       "2021-11-15    17.459999\n",
       "2021-11-16    17.080000\n",
       "2021-11-17    17.190001\n",
       "2021-11-18    18.150000\n",
       "2021-11-19    19.010000\n",
       "2021-11-22    19.590000\n",
       "2021-11-23    20.910000\n",
       "2021-11-24    20.959999\n",
       "2021-11-25    24.974999\n",
       "2021-11-26    28.990000\n",
       "2021-11-29    25.690001\n",
       "2021-11-30    28.559999\n",
       "2021-12-01    32.610001\n",
       "2021-12-02    30.680000\n",
       "2021-12-03    35.320000\n",
       "2021-12-06    30.820000\n",
       "2021-12-07    24.690001\n",
       "2021-12-08    23.110001\n",
       "2021-12-09    22.120001\n",
       "2021-12-10    21.299999\n",
       "2021-12-13    21.180000\n",
       "2021-12-14    23.000000\n",
       "2021-12-15    23.469999\n",
       "2021-12-16    22.129999\n",
       "2021-12-17    23.260000\n",
       "2021-12-20    27.389999\n",
       "2021-12-21    22.680000\n",
       "2021-12-22    21.360001\n",
       "2021-12-23    18.930000\n",
       "2021-12-27    19.410000\n",
       "2021-12-28    18.469999\n",
       "2021-12-29    18.000000\n",
       "2021-12-30    17.790001\n",
       "2022-01-03    18.540001\n",
       "2022-01-04    17.809999\n",
       "2022-01-05    20.170000\n",
       "2022-01-06    21.059999\n",
       "2022-01-07    20.799999\n",
       "2022-01-10    23.330000\n",
       "2022-01-11    21.000000\n",
       "2022-01-12    18.690001\n",
       "2022-01-13    20.610001\n",
       "2022-01-14    22.070000\n",
       "2022-01-17    22.635000\n",
       "2022-01-18    23.200001\n",
       "2022-01-19    23.990000\n",
       "2022-01-20    25.889999\n",
       "2022-01-21    29.790001\n",
       "Name: vix, dtype: float64"
      ]
     },
     "execution_count": 52,
     "metadata": {},
     "output_type": "execute_result"
    }
   ],
   "source": [
    "x_test = df_dax[\"vix\"][\"2021-11-10\":]\n",
    "x_test \n",
    "\n"
   ]
  },
  {
   "cell_type": "code",
   "execution_count": 47,
   "metadata": {},
   "outputs": [
    {
     "name": "stdout",
     "output_type": "stream",
     "text": [
      "1990-01-02 00:00:00\n",
      "1990-01-01 00:00:00\n",
      "17.239999771118164\n",
      "1788.8900146484375\n"
     ]
    }
   ],
   "source": [
    "#x_text_series \n",
    "from datetime import datetime, timedelta\n",
    "    \n",
    "\n",
    "values = []\n",
    "df_dax_scope = df_dax[\"1990-01-02\":\"2021-07-01\"]\n",
    "for i, value in df_dax_scope.High.iteritems():\n",
    "    print(i)\n",
    "    val_list = [df_dax_scope.High[i - timedelta(days=1)],\n",
    "                df_dax_scope.High[i - timedelta(days=2)],\n",
    "                df_dax_scope.High[i - timedelta(days=3)],\n",
    "                df_dax_scope.High[i - timedelta(days=4)],\n",
    "                df_dax_scope.High[i - timedelta(days=5)],\n",
    "        \n",
    "    ]\n",
    "    values.append(array()) = []\n",
    "    d = i - timedelta(days=1)\n",
    "    print(d)\n",
    "    print(df_vix.High[i])\n",
    "    print(value)\n",
    "    break\n",
    "    "
   ]
  },
  {
   "cell_type": "code",
   "execution_count": 23,
   "metadata": {},
   "outputs": [],
   "source": [
    "\n",
    "x_train = df_dax[\"vix\"][\"1990-01-02\":\"2021-07-01\"]\n",
    "x_train = np.array(x_train)\n",
    "\n",
    "\n",
    "x_test = df_dax[\"vix\"][\"2022-01-19\"].reshape(-1,1)\n",
    "x_test = np.array(x_test)\n",
    "x_test = x_test.reshape(-1, 1)"
   ]
  },
  {
   "cell_type": "code",
   "execution_count": 25,
   "metadata": {},
   "outputs": [
    {
     "name": "stdout",
     "output_type": "stream",
     "text": [
      "[17.23999977 18.19000053 19.21999931 ... 16.30999947 17.30999947\n",
      " 16.01000023]\n"
     ]
    }
   ],
   "source": [
    "print(x_train)\n"
   ]
  },
  {
   "cell_type": "code",
   "execution_count": 53,
   "metadata": {},
   "outputs": [],
   "source": [
    "from datetime import datetime\n",
    "today = datetime.today().strftime('%Y-%m-%d')"
   ]
  },
  {
   "cell_type": "code",
   "execution_count": 57,
   "metadata": {},
   "outputs": [],
   "source": [
    "today = \"2022-01-21\""
   ]
  },
  {
   "cell_type": "code",
   "execution_count": 64,
   "metadata": {},
   "outputs": [],
   "source": [
    "import pandas as pd \n",
    "\n",
    "y_train = pd.read_pickle(\"/Users/finnbrunnenkant/Desktop/Master KIT/Semester 4/Probalistic TS/DAX/Dataframes/ytrain\")\n",
    "x_train = pd.read_pickle(\"/Users/finnbrunnenkant/Desktop/Master KIT/Semester 4/Probalistic TS/DAX/Dataframes/xtrain\")\n",
    "y_test = pd.read_pickle(\"/Users/finnbrunnenkant/Desktop/Master KIT/Semester 4/Probalistic TS/DAX/Dataframes/ytest\")\n",
    "x_test = pd.read_pickle(\"/Users/finnbrunnenkant/Desktop/Master KIT/Semester 4/Probalistic TS/DAX/Dataframes/xtest\")"
   ]
  },
  {
   "cell_type": "code",
   "execution_count": 65,
   "metadata": {},
   "outputs": [],
   "source": [
    "x_train = x_train.interpolate(method='linear', limit_direction='forward', axis=0)\n",
    "y_train = y_train.interpolate(method='linear', limit_direction='forward', axis=0)\n",
    "x_test = x_test.interpolate(method='linear', limit_direction='forward', axis=0)\n",
    "\n",
    "\n",
    "x_train = x_train.interpolate(method='linear', limit_direction='forward', axis=1)\n",
    "y_train = y_train.interpolate(method='linear', limit_direction='forward', axis=1)\n",
    "x_test = x_test.interpolate(method='linear', limit_direction='forward', axis=1)\n"
   ]
  },
  {
   "cell_type": "code",
   "execution_count": 96,
   "metadata": {},
   "outputs": [
    {
     "data": {
      "text/plain": [
       "array([[16.01000023, 15.53999996, 16.74000025, 17.94000053, 17.63999939],\n",
       "       [21.29000092, 18.12999916, 17.52000046, 17.22999954, 17.51000023],\n",
       "       [18.09000015, 18.70000076, 25.09000015, 22.96999931, 19.81999969],\n",
       "       [18.45000076, 17.47999954, 19.38999939, 20.44000053, 19.62000084],\n",
       "       [18.01000023, 19.71999931, 19.87000084, 20.44000053, 18.89999962],\n",
       "       [17.84000015, 17.5       , 17.38999939, 17.04999924, 17.09000015],\n",
       "       [16.42000008, 15.72000027, 17.70999908, 19.55999947, 21.63999939],\n",
       "       [24.73999977, 23.89999962, 18.95000076, 17.51000023, 17.5       ],\n",
       "       [19.27000046, 18.21999931, 16.79999924, 17.06999969, 16.70999908],\n",
       "       [16.97999954, 17.05999947, 18.98999977, 18.38999939, 19.63999939],\n",
       "       [19.54000092, 21.12999916, 21.18000031, 20.46999931, 20.27000046],\n",
       "       [19.76000023, 21.51000023, 28.79000092, 25.60000038, 23.39999962],\n",
       "       [20.20999908, 20.40999985, 19.31999969, 24.81999969, 23.79000092],\n",
       "       [24.70999908, 24.88999939, 24.57999992, 23.17000008, 24.39999962],\n",
       "       [20.76000023, 19.94000053, 20.45000076, 20.80999947, 20.22999954],\n",
       "       [18.07999992, 16.85000038, 17.93000031, 16.30999947, 15.89000034],\n",
       "       [16.11000061, 16.38999939, 16.32999992, 16.70999908, 17.29000092],\n",
       "       [17.15999985, 18.05999947, 17.70000076, 16.64999962, 16.38999939],\n",
       "       [16.13999939, 17.02000046, 17.69000053, 18.56999969, 19.89999962],\n",
       "       [18.38999939, 17.69000053, 17.45999908, 17.07999992, 17.19000053],\n",
       "       [18.14999962, 19.01000023, 19.59000015, 20.90999985, 20.95999908],\n",
       "       [24.41499996, 28.98999977, 25.69000053, 28.55999947, 32.61000061],\n",
       "       [30.68000031, 35.31999969, 30.81999969, 24.69000053, 23.11000061],\n",
       "       [22.12000084, 21.29999924, 21.18000031, 23.        , 23.46999931],\n",
       "       [22.12999916, 23.26000023, 27.38999939, 22.68000031, 21.36000061],\n",
       "       [18.93000031, 20.76500034, 19.40999985, 18.46999931, 18.        ],\n",
       "       [17.79000092, 18.27000046, 18.54000092, 17.80999947, 20.17000008],\n",
       "       [21.05999947, 20.79999924, 23.32999992, 21.        , 18.69000053],\n",
       "       [20.61000061, 22.06999969, 31.13499928, 23.20000076, 23.98999977],\n",
       "       [25.88999939, 29.79000092, 38.93999863, 35.84999847, 33.04000092]])"
      ]
     },
     "execution_count": 96,
     "metadata": {},
     "output_type": "execute_result"
    }
   ],
   "source": [
    "x_test"
   ]
  },
  {
   "cell_type": "code",
   "execution_count": 62,
   "metadata": {},
   "outputs": [
    {
     "data": {
      "text/plain": [
       "False"
      ]
     },
     "execution_count": 62,
     "metadata": {},
     "output_type": "execute_result"
    }
   ],
   "source": [
    "x_test.isnull().values.any()"
   ]
  },
  {
   "cell_type": "code",
   "execution_count": 99,
   "metadata": {},
   "outputs": [
    {
     "data": {
      "text/plain": [
       "30"
      ]
     },
     "execution_count": 99,
     "metadata": {},
     "output_type": "execute_result"
    }
   ],
   "source": [
    "len(x_test)"
   ]
  },
  {
   "cell_type": "code",
   "execution_count": 68,
   "metadata": {},
   "outputs": [],
   "source": [
    "QUANTILES = [0.025,0.25,0.5,0.75,0.975]\n",
    "#x_train = df_dax[\"vix\"][\"1990-01-02\":\"2021-07-01\"]\n",
    "x_train = np.array(x_train)\n",
    "\n",
    "#vix_sliding_window = np.lib.stride_tricks.sliding_window_view(x_train,5)\n",
    "#x_train =vix_sliding_window\n",
    "\n",
    " \n",
    "\n",
    "x_test = np.array(x_test)\n",
    "x_test = x_test #.reshape(1,-1)\n",
    "results_gb = []\n",
    "\n",
    "for h in range(5):\n",
    "    train_data = y_train.loc[:, h]\n",
    "    model_1, pred1 = gb_quantile(x_train, np.array(y_train.loc[:, h]),x_test, QUANTILES[0])\n",
    "    model_2, pred2 = gb_quantile(x_train, np.array(y_train.loc[:, h]),x_test, QUANTILES[1])\n",
    "    model_3, pred3 = gb_quantile(x_train, np.array(y_train.loc[:, h]),x_test, QUANTILES[2])\n",
    "    model_4, pred4 = gb_quantile(x_train, np.array(y_train.loc[:, h]),x_test, QUANTILES[3])\n",
    "    model_5, pred5 = gb_quantile(x_train, np.array(y_train.loc[:, h]),x_test, QUANTILES[4])\n",
    "\n",
    "    results_gb.append([pred1,pred2,pred3,pred4,pred5])\n",
    "    \n"
   ]
  },
  {
   "cell_type": "code",
   "execution_count": 89,
   "metadata": {},
   "outputs": [],
   "source": [
    "results_gb_df = pd.DataFrame(results_gb)"
   ]
  },
  {
   "cell_type": "code",
   "execution_count": 100,
   "metadata": {},
   "outputs": [],
   "source": [
    "results_gb_df = pd.read_pickle(\"/Users/finnbrunnenkant/Desktop/Master KIT/Semester 4/Probalistic TS/Evaluation/Dax/VIX and 5 Days/30_obs\")"
   ]
  },
  {
   "cell_type": "code",
   "execution_count": 104,
   "metadata": {},
   "outputs": [
    {
     "data": {
      "text/plain": [
       "array([4.59652344, 4.48233555, 5.14829844, 5.01641089, 4.97171506,\n",
       "       4.59652344, 4.87161587, 4.98692768, 4.48233555, 4.59652344,\n",
       "       4.97171506, 5.22315506, 5.22315506, 5.4167298 , 5.14829844,\n",
       "       3.80217566, 4.8916576 , 4.4447525 , 4.59652344, 4.48233555,\n",
       "       5.14829844, 5.57805773, 5.55126302, 5.22315506, 5.14829844,\n",
       "       4.48233555, 4.59652344, 5.14829844, 5.25404366, 6.15630128])"
      ]
     },
     "execution_count": 104,
     "metadata": {},
     "output_type": "execute_result"
    }
   ],
   "source": [
    "2.6853809017215737\n",
    "results_gb_df.iloc[4,4]"
   ]
  },
  {
   "cell_type": "code",
   "execution_count": 95,
   "metadata": {},
   "outputs": [
    {
     "data": {
      "text/plain": [
       "<AxesSubplot:>"
      ]
     },
     "execution_count": 95,
     "metadata": {},
     "output_type": "execute_result"
    },
    {
     "data": {
      "image/png": "[encoded data removed]",
      "text/plain": [
       "<Figure size 432x288 with 1 Axes>"
      ]
     },
     "metadata": {
      "needs_background": "light"
     },
     "output_type": "display_data"
    }
   ],
   "source": [
    "y_test.plot()"
   ]
  },
  {
   "cell_type": "code",
   "execution_count": 92,
   "metadata": {},
   "outputs": [
    {
     "ename": "TypeError",
     "evalue": "no numeric data to plot",
     "output_type": "error",
     "traceback": [
      "\u001b[0;31m---------------------------------------------------------------------------\u001b[0m",
      "\u001b[0;31mTypeError\u001b[0m                                 Traceback (most recent call last)",
      "\u001b[0;32m<ipython-input-92-44d28f3ebe23>\u001b[0m in \u001b[0;36m<module>\u001b[0;34m\u001b[0m\n\u001b[0;32m----> 1\u001b[0;31m \u001b[0mresults_gb_df\u001b[0m\u001b[0;34m.\u001b[0m\u001b[0mplot\u001b[0m\u001b[0;34m(\u001b[0m\u001b[0;34m)\u001b[0m\u001b[0;34m\u001b[0m\u001b[0;34m\u001b[0m\u001b[0m\n\u001b[0m",
      "\u001b[0;32m/Applications/anaconda3/envs/pyUdemy/lib/python3.8/site-packages/pandas/plotting/_core.py\u001b[0m in \u001b[0;36m__call__\u001b[0;34m(self, *args, **kwargs)\u001b[0m\n\u001b[1;32m    953\u001b[0m                     \u001b[0mdata\u001b[0m\u001b[0;34m.\u001b[0m\u001b[0mcolumns\u001b[0m \u001b[0;34m=\u001b[0m \u001b[0mlabel_name\u001b[0m\u001b[0;34m\u001b[0m\u001b[0;34m\u001b[0m\u001b[0m\n\u001b[1;32m    954\u001b[0m \u001b[0;34m\u001b[0m\u001b[0m\n\u001b[0;32m--> 955\u001b[0;31m         \u001b[0;32mreturn\u001b[0m \u001b[0mplot_backend\u001b[0m\u001b[0;34m.\u001b[0m\u001b[0mplot\u001b[0m\u001b[0;34m(\u001b[0m\u001b[0mdata\u001b[0m\u001b[0;34m,\u001b[0m \u001b[0mkind\u001b[0m\u001b[0;34m=\u001b[0m\u001b[0mkind\u001b[0m\u001b[0;34m,\u001b[0m \u001b[0;34m**\u001b[0m\u001b[0mkwargs\u001b[0m\u001b[0;34m)\u001b[0m\u001b[0;34m\u001b[0m\u001b[0;34m\u001b[0m\u001b[0m\n\u001b[0m\u001b[1;32m    956\u001b[0m \u001b[0;34m\u001b[0m\u001b[0m\n\u001b[1;32m    957\u001b[0m     \u001b[0m__call__\u001b[0m\u001b[0;34m.\u001b[0m\u001b[0m__doc__\u001b[0m \u001b[0;34m=\u001b[0m \u001b[0m__doc__\u001b[0m\u001b[0;34m\u001b[0m\u001b[0;34m\u001b[0m\u001b[0m\n",
      "\u001b[0;32m/Applications/anaconda3/envs/pyUdemy/lib/python3.8/site-packages/pandas/plotting/_matplotlib/__init__.py\u001b[0m in \u001b[0;36mplot\u001b[0;34m(data, kind, **kwargs)\u001b[0m\n\u001b[1;32m     59\u001b[0m             \u001b[0mkwargs\u001b[0m\u001b[0;34m[\u001b[0m\u001b[0;34m\"ax\"\u001b[0m\u001b[0;34m]\u001b[0m \u001b[0;34m=\u001b[0m \u001b[0mgetattr\u001b[0m\u001b[0;34m(\u001b[0m\u001b[0max\u001b[0m\u001b[0;34m,\u001b[0m \u001b[0;34m\"left_ax\"\u001b[0m\u001b[0;34m,\u001b[0m \u001b[0max\u001b[0m\u001b[0;34m)\u001b[0m\u001b[0;34m\u001b[0m\u001b[0;34m\u001b[0m\u001b[0m\n\u001b[1;32m     60\u001b[0m     \u001b[0mplot_obj\u001b[0m \u001b[0;34m=\u001b[0m \u001b[0mPLOT_CLASSES\u001b[0m\u001b[0;34m[\u001b[0m\u001b[0mkind\u001b[0m\u001b[0;34m]\u001b[0m\u001b[0;34m(\u001b[0m\u001b[0mdata\u001b[0m\u001b[0;34m,\u001b[0m \u001b[0;34m**\u001b[0m\u001b[0mkwargs\u001b[0m\u001b[0;34m)\u001b[0m\u001b[0;34m\u001b[0m\u001b[0;34m\u001b[0m\u001b[0m\n\u001b[0;32m---> 61\u001b[0;31m     \u001b[0mplot_obj\u001b[0m\u001b[0;34m.\u001b[0m\u001b[0mgenerate\u001b[0m\u001b[0;34m(\u001b[0m\u001b[0;34m)\u001b[0m\u001b[0;34m\u001b[0m\u001b[0;34m\u001b[0m\u001b[0m\n\u001b[0m\u001b[1;32m     62\u001b[0m     \u001b[0mplot_obj\u001b[0m\u001b[0;34m.\u001b[0m\u001b[0mdraw\u001b[0m\u001b[0;34m(\u001b[0m\u001b[0;34m)\u001b[0m\u001b[0;34m\u001b[0m\u001b[0;34m\u001b[0m\u001b[0m\n\u001b[1;32m     63\u001b[0m     \u001b[0;32mreturn\u001b[0m \u001b[0mplot_obj\u001b[0m\u001b[0;34m.\u001b[0m\u001b[0mresult\u001b[0m\u001b[0;34m\u001b[0m\u001b[0;34m\u001b[0m\u001b[0m\n",
      "\u001b[0;32m/Applications/anaconda3/envs/pyUdemy/lib/python3.8/site-packages/pandas/plotting/_matplotlib/core.py\u001b[0m in \u001b[0;36mgenerate\u001b[0;34m(self)\u001b[0m\n\u001b[1;32m    276\u001b[0m     \u001b[0;32mdef\u001b[0m \u001b[0mgenerate\u001b[0m\u001b[0;34m(\u001b[0m\u001b[0mself\u001b[0m\u001b[0;34m)\u001b[0m\u001b[0;34m:\u001b[0m\u001b[0;34m\u001b[0m\u001b[0;34m\u001b[0m\u001b[0m\n\u001b[1;32m    277\u001b[0m         \u001b[0mself\u001b[0m\u001b[0;34m.\u001b[0m\u001b[0m_args_adjust\u001b[0m\u001b[0;34m(\u001b[0m\u001b[0;34m)\u001b[0m\u001b[0;34m\u001b[0m\u001b[0;34m\u001b[0m\u001b[0m\n\u001b[0;32m--> 278\u001b[0;31m         \u001b[0mself\u001b[0m\u001b[0;34m.\u001b[0m\u001b[0m_compute_plot_data\u001b[0m\u001b[0;34m(\u001b[0m\u001b[0;34m)\u001b[0m\u001b[0;34m\u001b[0m\u001b[0;34m\u001b[0m\u001b[0m\n\u001b[0m\u001b[1;32m    279\u001b[0m         \u001b[0mself\u001b[0m\u001b[0;34m.\u001b[0m\u001b[0m_setup_subplots\u001b[0m\u001b[0;34m(\u001b[0m\u001b[0;34m)\u001b[0m\u001b[0;34m\u001b[0m\u001b[0;34m\u001b[0m\u001b[0m\n\u001b[1;32m    280\u001b[0m         \u001b[0mself\u001b[0m\u001b[0;34m.\u001b[0m\u001b[0m_make_plot\u001b[0m\u001b[0;34m(\u001b[0m\u001b[0;34m)\u001b[0m\u001b[0;34m\u001b[0m\u001b[0;34m\u001b[0m\u001b[0m\n",
      "\u001b[0;32m/Applications/anaconda3/envs/pyUdemy/lib/python3.8/site-packages/pandas/plotting/_matplotlib/core.py\u001b[0m in \u001b[0;36m_compute_plot_data\u001b[0;34m(self)\u001b[0m\n\u001b[1;32m    439\u001b[0m         \u001b[0;31m# no non-numeric frames or series allowed\u001b[0m\u001b[0;34m\u001b[0m\u001b[0;34m\u001b[0m\u001b[0;34m\u001b[0m\u001b[0m\n\u001b[1;32m    440\u001b[0m         \u001b[0;32mif\u001b[0m \u001b[0mis_empty\u001b[0m\u001b[0;34m:\u001b[0m\u001b[0;34m\u001b[0m\u001b[0;34m\u001b[0m\u001b[0m\n\u001b[0;32m--> 441\u001b[0;31m             \u001b[0;32mraise\u001b[0m \u001b[0mTypeError\u001b[0m\u001b[0;34m(\u001b[0m\u001b[0;34m\"no numeric data to plot\"\u001b[0m\u001b[0;34m)\u001b[0m\u001b[0;34m\u001b[0m\u001b[0;34m\u001b[0m\u001b[0m\n\u001b[0m\u001b[1;32m    442\u001b[0m \u001b[0;34m\u001b[0m\u001b[0m\n\u001b[1;32m    443\u001b[0m         \u001b[0mself\u001b[0m\u001b[0;34m.\u001b[0m\u001b[0mdata\u001b[0m \u001b[0;34m=\u001b[0m \u001b[0mnumeric_data\u001b[0m\u001b[0;34m.\u001b[0m\u001b[0mapply\u001b[0m\u001b[0;34m(\u001b[0m\u001b[0mself\u001b[0m\u001b[0;34m.\u001b[0m\u001b[0m_convert_to_ndarray\u001b[0m\u001b[0;34m)\u001b[0m\u001b[0;34m\u001b[0m\u001b[0;34m\u001b[0m\u001b[0m\n",
      "\u001b[0;31mTypeError\u001b[0m: no numeric data to plot"
     ]
    }
   ],
   "source": [
    "results_gb_df[0]"
   ]
  },
  {
   "cell_type": "code",
   "execution_count": 75,
   "metadata": {},
   "outputs": [],
   "source": [
    "pred = model_1.predict(x_test)"
   ]
  },
  {
   "cell_type": "code",
   "execution_count": 84,
   "metadata": {},
   "outputs": [
    {
     "data": {
      "text/plain": [
       "30"
      ]
     },
     "execution_count": 84,
     "metadata": {},
     "output_type": "execute_result"
    }
   ],
   "source": [
    "len(results_gb[0][0])"
   ]
  },
  {
   "cell_type": "code",
   "execution_count": null,
   "metadata": {},
   "outputs": [],
   "source": [
    "for h in range(5):\n",
    "    y_train = df_dax[f\"{h+1}Day Return\"][\"1990-01-02\":\"2021-07-01\"]\n",
    "    pred1 = gb_quantile(x_train.reshape(-1, 1), y_train,x_test, QUANTILES[0])\n",
    "    pred2 = gb_quantile(x_train.reshape(-1, 1), y_train, x_test,QUANTILES[1])\n",
    "    pred3 = gb_quantile(x_train.reshape(-1, 1), y_train, x_test,QUANTILES[2])\n",
    "    pred4 = gb_quantile(x_train.reshape(-1, 1), y_train,x_test, QUANTILES[3])\n",
    "    pred5 = gb_quantile(x_train.reshape(-1, 1), y_train,x_test, QUANTILES[4])\n",
    "\n",
    "    results_gb.append([pred1,pred2,pred3,pred4,pred5])"
   ]
  },
  {
   "cell_type": "code",
   "execution_count": 73,
   "metadata": {},
   "outputs": [
    {
     "data": {
      "text/html": [
       "<div>\n",
       "<style scoped>\n",
       "    .dataframe tbody tr th:only-of-type {\n",
       "        vertical-align: middle;\n",
       "    }\n",
       "\n",
       "    .dataframe tbody tr th {\n",
       "        vertical-align: top;\n",
       "    }\n",
       "\n",
       "    .dataframe thead th {\n",
       "        text-align: right;\n",
       "    }\n",
       "</style>\n",
       "<table border=\"1\" class=\"dataframe\">\n",
       "  <thead>\n",
       "    <tr style=\"text-align: right;\">\n",
       "      <th></th>\n",
       "      <th>0</th>\n",
       "      <th>1</th>\n",
       "      <th>2</th>\n",
       "      <th>3</th>\n",
       "      <th>4</th>\n",
       "    </tr>\n",
       "  </thead>\n",
       "  <tbody>\n",
       "    <tr>\n",
       "      <th>0</th>\n",
       "      <td>-2.036066</td>\n",
       "      <td>-0.408002</td>\n",
       "      <td>0.089699</td>\n",
       "      <td>0.633865</td>\n",
       "      <td>1.964794</td>\n",
       "    </tr>\n",
       "    <tr>\n",
       "      <th>1</th>\n",
       "      <td>-2.842279</td>\n",
       "      <td>-0.600356</td>\n",
       "      <td>0.260046</td>\n",
       "      <td>0.912527</td>\n",
       "      <td>2.285617</td>\n",
       "    </tr>\n",
       "    <tr>\n",
       "      <th>2</th>\n",
       "      <td>-2.729619</td>\n",
       "      <td>0.031748</td>\n",
       "      <td>0.518304</td>\n",
       "      <td>1.166268</td>\n",
       "      <td>3.999614</td>\n",
       "    </tr>\n",
       "    <tr>\n",
       "      <th>3</th>\n",
       "      <td>-3.841589</td>\n",
       "      <td>-0.311584</td>\n",
       "      <td>0.462029</td>\n",
       "      <td>1.435982</td>\n",
       "      <td>4.16165</td>\n",
       "    </tr>\n",
       "    <tr>\n",
       "      <th>4</th>\n",
       "      <td>-3.819978</td>\n",
       "      <td>-0.842407</td>\n",
       "      <td>0.402762</td>\n",
       "      <td>1.456286</td>\n",
       "      <td>4.596523</td>\n",
       "    </tr>\n",
       "  </tbody>\n",
       "</table>\n",
       "</div>"
      ],
      "text/plain": [
       "          0         1         2         3         4\n",
       "0 -2.036066 -0.408002  0.089699  0.633865  1.964794\n",
       "1 -2.842279 -0.600356  0.260046  0.912527  2.285617\n",
       "2 -2.729619  0.031748  0.518304  1.166268  3.999614\n",
       "3 -3.841589 -0.311584  0.462029  1.435982   4.16165\n",
       "4 -3.819978 -0.842407  0.402762  1.456286  4.596523"
      ]
     },
     "execution_count": 73,
     "metadata": {},
     "output_type": "execute_result"
    }
   ],
   "source": [
    "results_gb\n",
    "\n",
    "\n",
    "resluts = list(results_gb)\n",
    "\n",
    "results = pd.DataFrame(index = range(5),columns = range(5))\n",
    "for i in range(5):\n",
    "    for j in range(5):\n",
    "        results.iloc[i,j] = results_gb[i][j][0]\n",
    "        \n",
    "\n",
    "results \n",
    "\n",
    "\n",
    "\n",
    "results"
   ]
  },
  {
   "cell_type": "code",
   "execution_count": 31,
   "metadata": {},
   "outputs": [],
   "source": [
    "results.to_csv(\"/Users/finnbrunnenkant/Desktop/Master KIT/Semester 4/Probalistic TS/Predictions/Week_14/DAX\",index=False,header=False)"
   ]
  },
  {
   "cell_type": "code",
   "execution_count": 169,
   "metadata": {},
   "outputs": [
    {
     "name": "stdout",
     "output_type": "stream",
     "text": [
      "0.025\n",
      "0.25\n",
      "0.5\n",
      "0.75\n",
      "0.975\n"
     ]
    }
   ],
   "source": [
    "\n",
    "\n",
    "model_1 = keras_pred(x_train, y_train, QUANTILES[0])\n",
    "model_2 = keras_pred(x_train, y_train, QUANTILES[1])\n",
    "model_3 = keras_pred(x_train, y_train, QUANTILES[2])\n",
    "model_4 = keras_pred(x_train, y_train, QUANTILES[3])\n",
    "model_5 = keras_pred(x_train, y_train, QUANTILES[4])"
   ]
  },
  {
   "cell_type": "code",
   "execution_count": 170,
   "metadata": {},
   "outputs": [
    {
     "name": "stdout",
     "output_type": "stream",
     "text": [
      "WARNING:tensorflow:5 out of the last 91 calls to <function Model.make_predict_function.<locals>.predict_function at 0x7fb26a170160> triggered tf.function retracing. Tracing is expensive and the excessive number of tracings could be due to (1) creating @tf.function repeatedly in a loop, (2) passing tensors with different shapes, (3) passing Python objects instead of tensors. For (1), please define your @tf.function outside of the loop. For (2), @tf.function has experimental_relax_shapes=True option that relaxes argument shapes that can avoid unnecessary retracing. For (3), please refer to https://www.tensorflow.org/tutorials/customization/performance#python_or_tensor_args and https://www.tensorflow.org/api_docs/python/tf/function for  more details.\n",
      "WARNING:tensorflow:5 out of the last 13 calls to <function Model.make_predict_function.<locals>.predict_function at 0x7fb26a170dc0> triggered tf.function retracing. Tracing is expensive and the excessive number of tracings could be due to (1) creating @tf.function repeatedly in a loop, (2) passing tensors with different shapes, (3) passing Python objects instead of tensors. For (1), please define your @tf.function outside of the loop. For (2), @tf.function has experimental_relax_shapes=True option that relaxes argument shapes that can avoid unnecessary retracing. For (3), please refer to https://www.tensorflow.org/tutorials/customization/performance#python_or_tensor_args and https://www.tensorflow.org/api_docs/python/tf/function for  more details.\n"
     ]
    }
   ],
   "source": [
    "x_test = np.array(x_test)\n",
    "x_test = x_test.reshape(-1, 1)\n",
    "x_test \n",
    "\n",
    "r1 = model_1.predict(x_test)\n",
    "r2 = model_2.predict(x_test)\n",
    "r3 =model_3.predict(x_test)\n",
    "r4 =model_4.predict(x_test)\n",
    "r5 =model_5.predict(x_test)\n"
   ]
  },
  {
   "cell_type": "code",
   "execution_count": 181,
   "metadata": {},
   "outputs": [
    {
     "data": {
      "text/plain": [
       "array([[1.8642938],\n",
       "       [1.8071624],\n",
       "       [1.95303  ],\n",
       "       [2.0988977],\n",
       "       [2.0624306],\n",
       "       [2.5061114],\n",
       "       [2.1219933],\n",
       "       [2.0478442],\n",
       "       [2.0125926],\n",
       "       [2.0466285],\n",
       "       [2.1171312],\n",
       "       [2.1912806],\n",
       "       [2.9680257],\n",
       "       [2.710326 ],\n",
       "       [2.3274238],\n",
       "       [2.1608918],\n",
       "       [2.0429816],\n",
       "       [2.2751544],\n",
       "       [2.4027886],\n",
       "       [2.3031125],\n",
       "       [2.1074066],\n",
       "       [2.315268 ],\n",
       "       [2.3335016],\n",
       "       [2.4027886],\n",
       "       [2.215592 ],\n",
       "       [2.0867422],\n",
       "       [2.045413 ],\n",
       "       [2.0320415],\n",
       "       [1.9907123],\n",
       "       [1.9955748],\n",
       "       [1.914132 ],\n",
       "       [1.8290426],\n",
       "       [2.0709395],\n",
       "       [2.295819 ],\n",
       "       [2.5486562],\n",
       "       [2.9254808],\n",
       "       [2.8233736],\n",
       "       [2.22167  ],\n",
       "       [2.0466285],\n",
       "       [2.045413 ],\n",
       "       [2.2605677],\n",
       "       [2.1329334],\n",
       "       [1.9603232],\n",
       "       [1.9931436],\n",
       "       [1.9493831],\n",
       "       [1.9822035],\n",
       "       [1.991928 ],\n",
       "       [2.072763 ],\n",
       "       [2.153598 ],\n",
       "       [2.3055434],\n",
       "       [2.2933881],\n",
       "       [2.4866626],\n",
       "       [2.4927404],\n",
       "       [2.4064353],\n",
       "       [2.3821242],\n",
       "       [2.32013  ],\n",
       "       [2.5328538],\n",
       "       [3.4177845],\n",
       "       [3.0300195],\n",
       "       [2.7625954],\n",
       "       [2.3748305],\n",
       "       [2.399142 ],\n",
       "       [2.2666454],\n",
       "       [2.9352052],\n",
       "       [2.8100026],\n",
       "       [2.9218342],\n",
       "       [2.9437144],\n",
       "       [2.9060318],\n",
       "       [2.7346375],\n",
       "       [2.8841517],\n",
       "       [2.4416866],\n",
       "       [2.3420105],\n",
       "       [2.4040043],\n",
       "       [2.4477646],\n",
       "       [2.3772619],\n",
       "       [2.1159155],\n",
       "       [1.9664012],\n",
       "       [2.0976822],\n",
       "       [1.9007607],\n",
       "       [1.8497071],\n",
       "       [1.8764497],\n",
       "       [1.9104853],\n",
       "       [1.9031919],\n",
       "       [1.9493831],\n",
       "       [2.0198863],\n",
       "       [2.0040836],\n",
       "       [2.1134846],\n",
       "       [2.069724 ],\n",
       "       [1.9420899],\n",
       "       [1.9104853],\n",
       "       [1.8800962],\n",
       "       [1.9870658],\n",
       "       [2.0685086],\n",
       "       [2.1754782],\n",
       "       [2.1754782]], dtype=float32)"
      ]
     },
     "execution_count": 181,
     "metadata": {},
     "output_type": "execute_result"
    }
   ],
   "source": [
    "r5"
   ]
  },
  {
   "cell_type": "code",
   "execution_count": null,
   "metadata": {},
   "outputs": [],
   "source": [
    "preds.loc[preds.method == 'QuantReg', 'pred'] = np.concatenate(\n",
    "    [quantreg.fit(q=q).predict(X_test) for q in QUANTILES])"
   ]
  },
  {
   "cell_type": "code",
   "execution_count": 176,
   "metadata": {},
   "outputs": [
    {
     "name": "stdout",
     "output_type": "stream",
     "text": [
      "[-2.64894504]\n",
      "[-0.47990873]\n",
      "[0.07766716]\n",
      "[0.6560946]\n",
      "[2.29215149]\n",
      "[-4.00491526]\n",
      "[-0.76488063]\n",
      "[0.16404084]\n",
      "[0.90931944]\n",
      "[3.13176057]\n",
      "[-4.79087501]\n",
      "[-0.83234025]\n",
      "[0.17252311]\n",
      "[1.21861506]\n",
      "[3.96296334]\n",
      "[-5.15382911]\n",
      "[-0.96626705]\n",
      "[0.23455031]\n",
      "[1.3951978]\n",
      "[4.87591302]\n",
      "[-5.91218418]\n",
      "[-1.07122018]\n",
      "[0.36803665]\n",
      "[1.47806466]\n",
      "[5.42712002]\n"
     ]
    }
   ],
   "source": [
    "#quantile Regression \n",
    "#Change\n",
    "tau = [2.5, 25, 50, 75, 97.5]\n",
    "\n",
    "predictions_h = {}\n",
    "for h in range(1,6):\n",
    "    y_true_mean = 0 #by definition of daily returns \n",
    "    X =  abs(A[0].take(len(A[0])-1)).reshape(-1, 1)\n",
    "    X_train = A[0][-(1000+h):-h].reshape(-1, 1)  # last 1000 daily returns\n",
    "    y_train = A[h-1][-1000:] # followed h- step return\n",
    "\n",
    "\n",
    "    quantiles = [i/100 for i in tau]\n",
    "    predictions = {}\n",
    "    out_bounds_predictions = np.zeros_like(y_true_mean, dtype=np.bool_)\n",
    "    for quantile in quantiles:\n",
    "        qr = QuantileRegressor(quantile=quantile, alpha=0).fit(X_train, y_train)\n",
    "        y_pred = qr.predict(X)\n",
    "        predictions[quantile] = y_pred\n",
    "        print(y_pred)\n",
    "        #if quantile == min(quantiles):\n",
    "        #    out_bounds_predictions = np.logical_or(\n",
    "        #        out_bounds_predictions, y_pred >= y_train\n",
    "         #   )\n",
    "        #elif quantile == max(quantiles):\n",
    "        #    out_bounds_predictions = np.logical_or(\n",
    "        #        out_bounds_predictions, y_pred <= y_train\n",
    "         #   )\n",
    "    predictions_h[h] = predictions       "
   ]
  },
  {
   "cell_type": "code",
   "execution_count": 13,
   "metadata": {},
   "outputs": [
    {
     "data": {
      "image/png": "[encoded data removed]",
      "text/plain": [
       "<Figure size 432x288 with 1 Axes>"
      ]
     },
     "metadata": {
      "needs_background": "light",
      "transient": {}
     },
     "output_type": "display_data"
    }
   ],
   "source": [
    "plt.plot(X, y_true_mean, color=\"black\", linestyle=\"dashed\", label=\"True mean\")\n",
    "\n",
    "for quantile, y_pred in predictions.items():\n",
    "    plt.plot(X, y_pred, label=f\"Quantile: {quantile}\")\n",
    "\n",
    "plt.scatter(\n",
    "    X_train[out_bounds_predictions],\n",
    "    y_train[out_bounds_predictions],\n",
    "    color=\"black\",\n",
    "    marker=\"+\",\n",
    "    alpha=0.5,\n",
    "    label=\"Outside interval\",\n",
    ")\n",
    "plt.scatter(\n",
    "    X_train[~out_bounds_predictions],\n",
    "    y_train[~out_bounds_predictions],\n",
    "    color=\"black\",\n",
    "    alpha=0.5,\n",
    "    label=\"Inside interval\",\n",
    ")\n",
    "\n",
    "plt.legend()\n",
    "plt.xlabel(\"x\")\n",
    "plt.ylabel(\"y\")\n",
    "_ = plt.title(\"Quantiles of heteroscedastic Normal distributed target\")"
   ]
  },
  {
   "cell_type": "code",
   "execution_count": 31,
   "metadata": {},
   "outputs": [
    {
     "ename": "NameError",
     "evalue": "name 'pred_results' is not defined",
     "output_type": "error",
     "traceback": [
      "\u001b[0;31m---------------------------------------------------------------------------\u001b[0m",
      "\u001b[0;31mNameError\u001b[0m                                 Traceback (most recent call last)",
      "\u001b[0;32m<ipython-input-31-1dc2dc57369d>\u001b[0m in \u001b[0;36m<module>\u001b[0;34m\u001b[0m\n\u001b[1;32m      1\u001b[0m \u001b[0mfilename\u001b[0m \u001b[0;34m=\u001b[0m \u001b[0;34m\"/Users/finnbrunnenkant/Desktop/Master KIT/Semester 4/Probalistic TS/Predictions/Week_11/DAX_help\"\u001b[0m\u001b[0;34m\u001b[0m\u001b[0;34m\u001b[0m\u001b[0m\n\u001b[0;32m----> 2\u001b[0;31m \u001b[0mpred_results\u001b[0m\u001b[0;34m.\u001b[0m\u001b[0mto_csv\u001b[0m\u001b[0;34m(\u001b[0m\u001b[0mfilename\u001b[0m\u001b[0;34m,\u001b[0m \u001b[0mheader\u001b[0m\u001b[0;34m=\u001b[0m\u001b[0;32mFalse\u001b[0m\u001b[0;34m,\u001b[0m \u001b[0mindex\u001b[0m \u001b[0;34m=\u001b[0m \u001b[0;32mFalse\u001b[0m\u001b[0;34m)\u001b[0m\u001b[0;34m\u001b[0m\u001b[0;34m\u001b[0m\u001b[0m\n\u001b[0m\u001b[1;32m      3\u001b[0m \u001b[0;34m\u001b[0m\u001b[0m\n\u001b[1;32m      4\u001b[0m \u001b[0;34m\u001b[0m\u001b[0m\n\u001b[1;32m      5\u001b[0m \u001b[0mfilename2\u001b[0m \u001b[0;34m=\u001b[0m \u001b[0;34m\"/Users/finnbrunnenkant/Desktop/Master KIT/Semester 4/Probalistic TS/Predictions/Week_11/DAX\"\u001b[0m\u001b[0;34m\u001b[0m\u001b[0;34m\u001b[0m\u001b[0m\n",
      "\u001b[0;31mNameError\u001b[0m: name 'pred_results' is not defined"
     ]
    }
   ],
   "source": [
    "\n",
    "filename = \"/Users/finnbrunnenkant/Desktop/Master KIT/Semester 4/Probalistic TS/Predictions/Week_11/DAX_help\"\n",
    "pred_results.to_csv(filename, header=False, index = False)\n",
    "\n",
    "\n",
    "filename2 = \"/Users/finnbrunnenkant/Desktop/Master KIT/Semester 4/Probalistic TS/Predictions/Week_11/DAX\"\n",
    "\n",
    "import csv\n",
    "import string\n",
    "\n",
    "input_file = open(filename, 'r')\n",
    "output_file = open(filename2, 'w')\n",
    "data = csv.reader(input_file)\n",
    "writer = csv.writer(output_file)\n",
    "special1 = ']'\n",
    "special2 = '['\n",
    "\n",
    "for line in data:\n",
    "    line = [value.replace(special1, '') for value in line]\n",
    "    line = [value.replace(special2, '') for value in line]\n",
    "    writer.writerow(line)\n",
    "\n",
    "input_file.close()\n",
    "output_file.close() \n",
    "\n"
   ]
  },
  {
   "cell_type": "code",
   "execution_count": null,
   "metadata": {},
   "outputs": [],
   "source": [
    "\n"
   ]
  },
  {
   "cell_type": "code",
   "execution_count": null,
   "metadata": {},
   "outputs": [],
   "source": []
  },
  {
   "cell_type": "code",
   "execution_count": null,
   "metadata": {},
   "outputs": [],
   "source": []
  },
  {
   "cell_type": "code",
   "execution_count": null,
   "metadata": {},
   "outputs": [],
   "source": []
  }
 ],
 "metadata": {
  "kernelspec": {
   "display_name": "Python 3",
   "language": "python",
   "name": "python3"
  },
  "language_info": {
   "codemirror_mode": {
    "name": "ipython",
    "version": 3
   },
   "file_extension": ".py",
   "mimetype": "text/x-python",
   "name": "python",
   "nbconvert_exporter": "python",
   "pygments_lexer": "ipython3",
   "version": "3.8.5"
  }
 },
 "nbformat": 4,
 "nbformat_minor": 4
}
