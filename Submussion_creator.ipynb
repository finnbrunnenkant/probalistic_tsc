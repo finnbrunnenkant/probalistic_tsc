{
 "cells": [
  {
   "cell_type": "code",
   "execution_count": 2,
   "metadata": {},
   "outputs": [
    {
     "name": "stdout",
     "output_type": "stream",
     "text": [
      "[['-2.61524815', '-0.48780181', '0.04733079', '0.63839652', '2.28057159'], ['-3.97076166', '-0.74519548', '0.13731609', '0.89020503', '3.12867284'], ['-4.68992799', '-0.85322174', '0.12825134', '1.1676004', '3.98316897'], ['-5.05287992', '-0.96484361', '0.17993351', '1.33568313', '4.83120796'], ['-5.83221886', '-1.05169765', '0.34149602', '1.46886701', '5.33705264']]\n"
     ]
    }
   ],
   "source": [
    "#get the data\n",
    "\n",
    "import csv\n",
    "\n",
    "filedax_data = \"/Users/finnbrunnenkant/Desktop/Master KIT/Semester 4/Probalistic TS/Predictions/Week_1/DAX\"\n",
    "\n",
    "with open(filedax_data, newline='') as f:\n",
    "    reader = csv.reader(f)\n",
    "    data = list(reader)\n",
    "\n",
    "print(data)\n",
    "\n",
    "\n",
    "submission = [\"forecast_date,target,horizon,q0.025,q0.25,q0.5,q0.75,q0.975\"]\n",
    "submission.append"
   ]
  },
  {
   "cell_type": "code",
   "execution_count": null,
   "metadata": {},
   "outputs": [],
   "source": []
  }
 ],
 "metadata": {
  "kernelspec": {
   "display_name": "Python 3.8.5 64-bit ('pyUdemy': conda)",
   "metadata": {
    "interpreter": {
     "hash": "f539f40fc0970c71253d841186fda659075fd2cd0b29b5a7ea04a54df40f0da8"
    }
   },
   "name": "python3"
  },
  "language_info": {
   "codemirror_mode": {
    "name": "ipython",
    "version": 3
   },
   "file_extension": ".py",
   "mimetype": "text/x-python",
   "name": "python",
   "nbconvert_exporter": "python",
   "pygments_lexer": "ipython3",
   "version": "3.8.5"
  },
  "orig_nbformat": 2
 },
 "nbformat": 4,
 "nbformat_minor": 2
}