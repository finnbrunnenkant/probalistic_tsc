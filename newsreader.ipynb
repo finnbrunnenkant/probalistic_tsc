{
 "cells": [
  {
   "cell_type": "code",
   "execution_count": 1,
   "metadata": {},
   "outputs": [],
   "source": [
    "import pandas as pd"
   ]
  },
  {
   "cell_type": "code",
   "execution_count": 3,
   "metadata": {},
   "outputs": [
    {
     "data": {
      "text/plain": [
       "''"
      ]
     },
     "execution_count": 3,
     "metadata": {},
     "output_type": "execute_result"
    }
   ],
   "source": [
    "import newspaper\n",
    "\n",
    "from newspaper import Article\n",
    "\n",
    "url = \"https://www.sueddeutsche.de/wirtschaft/kfw-hausbau-habeck-1.5519130?reduced=false\"\n",
    "article = Article(url)\n",
    "\n",
    "article.download()\n",
    "\n",
    "article.text\n"
   ]
  }
 ],
 "metadata": {
  "interpreter": {
   "hash": "70ea940c94e74913ecd666ccbe703f0871267fd345dd4aed39029f31bf1d8bc1"
  },
  "kernelspec": {
   "display_name": "Python 3.8.5 64-bit ('pyUdemy': conda)",
   "language": "python",
   "name": "python3"
  },
  "language_info": {
   "codemirror_mode": {
    "name": "ipython",
    "version": 3
   },
   "file_extension": ".py",
   "mimetype": "text/x-python",
   "name": "python",
   "nbconvert_exporter": "python",
   "pygments_lexer": "ipython3",
   "version": "3.8.5"
  },
  "orig_nbformat": 4
 },
 "nbformat": 4,
 "nbformat_minor": 2
}
