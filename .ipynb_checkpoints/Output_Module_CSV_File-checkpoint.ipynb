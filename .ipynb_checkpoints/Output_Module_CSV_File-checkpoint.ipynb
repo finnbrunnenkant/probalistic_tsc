{
 "cells": [
  {
   "cell_type": "code",
   "execution_count": 1,
   "metadata": {
    "id": "pWx5vhinMyCg"
   },
   "outputs": [],
   "source": [
    "import pandas as pd\n",
    "import numpy as np\n",
    "import matplotlib.pyplot as plt\n",
    "\n",
    "import csv"
   ]
  },
  {
   "cell_type": "code",
   "execution_count": 2,
   "metadata": {
    "colab": {
     "base_uri": "https://localhost:8080/",
     "height": 204
    },
    "id": "qC8d4nb_MvQ8",
    "outputId": "630528e0-2ecb-4fa9-ac65-f815f071750f"
   },
   "outputs": [
    {
     "data": {
      "text/plain": [
       "{'36 hour': [-4, -2, 0, 2, 4],\n",
       " '48 hour': [-4, -2, 0, 2, 4],\n",
       " '60 hour': [-4, -2, 0, 2, 4],\n",
       " '72 hour': [-4, -2, 0, 2, 4],\n",
       " '84 hour': [-4, -2, 0, 2, 4]}"
      ]
     },
     "execution_count": 2,
     "metadata": {},
     "output_type": "execute_result"
    }
   ],
   "source": [
    "#Example Values\n",
    "\n",
    "DAX = {'1 day': [-4, -2, 0, 2, 4], '2 day': [-4, -2, 0, 2, 4], '5 day': [-4, -2, 0, 2, 4], '6 day': [-4, -2, 0, 2, 4], '7 day': [-4, -2, 0, 2, 4]}\n",
    "DAX_df = pd.DataFrame(data=DAX, index = ['q0.025', 'q0.25', 'q0.5', 'q0.75', 'q0.975'])\n",
    "\n",
    "temperature = {'36 hour': [-4, -2, 0, 2, 4], '48 hour': [-4, -2, 0, 2, 4], '60 hour': [-4, -2, 0, 2, 4], '72 hour': [-4, -2, 0, 2, 4], '84 hour': [-4, -2, 0, 2, 4]}\n",
    "temperature_df = pd.DataFrame(data=temperature, index = ['q0.025', 'q0.25', 'q0.5', 'q0.75', 'q0.975'])\n",
    "\n",
    "wind = {'36 hour': [-4, -2, 0, 2, 4], '48 hour': [-4, -2, 0, 2, 4], '60 hour': [-4, -2, 0, 2, 4], '72 hour': [-4, -2, 0, 2, 4], '84 hour': [-4, -2, 0, 2, 4]}\n",
    "wind_df = pd.DataFrame(data=wind, index = ['q0.025', 'q0.25', 'q0.5', 'q0.75', 'q0.975'])\n",
    "\n",
    "temperature"
   ]
  },
  {
   "cell_type": "code",
   "execution_count": 3,
   "metadata": {},
   "outputs": [
    {
     "name": "stdout",
     "output_type": "stream",
     "text": [
      "           q0.025     q0.25      q0.5     q0.75    q0.975\n",
      "36 hour -0.422022  1.158259  1.987434  2.816610  4.396891\n",
      "48 hour -2.947357 -1.594527 -0.884695 -0.174864  1.177967\n",
      "60 hour -0.820655  0.638105  1.403518  2.168931  3.627691\n",
      "72 hour -2.948760 -0.429894  0.891759  2.213411  4.732278\n",
      "84 hour -1.477221  1.960939  3.764945  5.568951  9.007111\n"
     ]
    }
   ],
   "source": [
    "index_cols = [\"1 day\", \"2 day\",\"5 day\",\"6 day\",\"7 day\"]\n",
    "\n",
    "DAX_df = pd.read_csv(\"/Users/finnbrunnenkant/Desktop/Master KIT/Semester 4/Probalistic TS/Predictions/Week_11/DAX\", names= ['q0.025', 'q0.25', 'q0.5', 'q0.75', 'q0.975'])\n",
    "\n",
    "DAX_new = DAX_df.rename(index={0:\"1 day\", 1:\"2 day\", 2:\"5 day\", 3:\"6 day\", 4:\"7 day\"})\n",
    "DAX_new\n",
    "\n",
    "\n",
    "\n",
    "#temperature \n",
    "temp_df = pd.read_csv(\"/Users/finnbrunnenkant/Desktop/Master KIT/Semester 4/Probalistic TS/Predictions/Week_11/temperature.csv\",names= ['q0.025', 'q0.25', 'q0.5', 'q0.75', 'q0.975'],skiprows=1)\n",
    "temp_df = temp_df.rename(index={0:\"36 hour\", 1:\"48 hour\", 2:\"60 hour\", 3:\"72 hour\", 4:\"84 hour\"})\n",
    "\n",
    "\n",
    "print(temp_df)\n"
   ]
  },
  {
   "cell_type": "code",
   "execution_count": 4,
   "metadata": {},
   "outputs": [
    {
     "name": "stdout",
     "output_type": "stream",
     "text": [
      "            q0.025      q0.25       q0.5      q0.75     q0.975\n",
      "36 hour  20.756460  24.771347  26.877962  28.984578  32.999465\n",
      "48 hour  11.863035  16.309866  18.643125  20.976383  25.423216\n",
      "60 hour  10.879253  15.009141  17.176098  19.343056  23.472946\n",
      "72 hour   3.682381   9.185650  12.153830  15.130525  20.810741\n",
      "84 hour   2.835916   9.352208  13.073123  16.829815  24.019673\n"
     ]
    },
    {
     "data": {
      "text/html": [
       "<div>\n",
       "<style scoped>\n",
       "    .dataframe tbody tr th:only-of-type {\n",
       "        vertical-align: middle;\n",
       "    }\n",
       "\n",
       "    .dataframe tbody tr th {\n",
       "        vertical-align: top;\n",
       "    }\n",
       "\n",
       "    .dataframe thead th {\n",
       "        text-align: right;\n",
       "    }\n",
       "</style>\n",
       "<table border=\"1\" class=\"dataframe\">\n",
       "  <thead>\n",
       "    <tr style=\"text-align: right;\">\n",
       "      <th></th>\n",
       "      <th>q0.025</th>\n",
       "      <th>q0.25</th>\n",
       "      <th>q0.5</th>\n",
       "      <th>q0.75</th>\n",
       "      <th>q0.975</th>\n",
       "    </tr>\n",
       "  </thead>\n",
       "  <tbody>\n",
       "    <tr>\n",
       "      <th>1 day</th>\n",
       "      <td>-2.928242</td>\n",
       "      <td>-0.685054</td>\n",
       "      <td>0.067941</td>\n",
       "      <td>0.853491</td>\n",
       "      <td>2.761870</td>\n",
       "    </tr>\n",
       "    <tr>\n",
       "      <th>2 day</th>\n",
       "      <td>-4.136873</td>\n",
       "      <td>-1.103788</td>\n",
       "      <td>0.322435</td>\n",
       "      <td>1.500665</td>\n",
       "      <td>3.946626</td>\n",
       "    </tr>\n",
       "    <tr>\n",
       "      <th>5 day</th>\n",
       "      <td>-5.239800</td>\n",
       "      <td>-1.465764</td>\n",
       "      <td>0.381273</td>\n",
       "      <td>1.600019</td>\n",
       "      <td>4.392824</td>\n",
       "    </tr>\n",
       "    <tr>\n",
       "      <th>6 day</th>\n",
       "      <td>-6.645894</td>\n",
       "      <td>-0.982935</td>\n",
       "      <td>0.365909</td>\n",
       "      <td>2.026617</td>\n",
       "      <td>4.969594</td>\n",
       "    </tr>\n",
       "    <tr>\n",
       "      <th>7 day</th>\n",
       "      <td>-6.156581</td>\n",
       "      <td>-1.081475</td>\n",
       "      <td>0.228414</td>\n",
       "      <td>2.244120</td>\n",
       "      <td>5.275647</td>\n",
       "    </tr>\n",
       "  </tbody>\n",
       "</table>\n",
       "</div>"
      ],
      "text/plain": [
       "         q0.025     q0.25      q0.5     q0.75    q0.975\n",
       "1 day -2.928242 -0.685054  0.067941  0.853491  2.761870\n",
       "2 day -4.136873 -1.103788  0.322435  1.500665  3.946626\n",
       "5 day -5.239800 -1.465764  0.381273  1.600019  4.392824\n",
       "6 day -6.645894 -0.982935  0.365909  2.026617  4.969594\n",
       "7 day -6.156581 -1.081475  0.228414  2.244120  5.275647"
      ]
     },
     "execution_count": 4,
     "metadata": {},
     "output_type": "execute_result"
    }
   ],
   "source": [
    "\n",
    "\n",
    "#wind \n",
    "wind_df = pd.read_csv(\"/Users/finnbrunnenkant/Desktop/Master KIT/Semester 4/Probalistic TS/Predictions/Week_11/wind.csv\",names= ['q0.025', 'q0.25', 'q0.5', 'q0.75', 'q0.975'],skiprows=1)\n",
    "wind_df = wind_df.rename(index={0:\"36 hour\", 1:\"48 hour\", 2:\"60 hour\", 3:\"72 hour\", 4:\"84 hour\"})\n",
    "print(wind_df)\n",
    "\n",
    "\n",
    "DAX_new\n",
    "\n"
   ]
  },
  {
   "cell_type": "code",
   "execution_count": 5,
   "metadata": {
    "id": "R3IED3peqLot"
   },
   "outputs": [],
   "source": [
    "\n",
    "Standard_dax_df = pd.DataFrame({'target': [\"DAX\"]*5 , 'horizon': [\"1 day\", \"2 day\", \"5 day\", \"6 day\", \"7 day\"]})\n",
    "Standard_df = pd.DataFrame({'target': [\"DAX\"]*5 + [\"temperature\"]*5 + [\"wind\"]*5, 'horizon': [\"1 day\", \"2 day\", \"5 day\", \"6 day\", \"7 day\", \"36 hour\", \"48 hour\", \"60 hour\", \"72 hour\", \"80 hour\", \"36 hour\", \"48 hour\", \"60 hour\", \"72 hour\", \"80 hour\"]})"
   ]
  },
  {
   "cell_type": "code",
   "execution_count": 6,
   "metadata": {
    "colab": {
     "base_uri": "https://localhost:8080/",
     "height": 514
    },
    "id": "sW8sN6WhscQc",
    "outputId": "cf7207ad-fbef-46ad-d664-14a20a95d172"
   },
   "outputs": [
    {
     "data": {
      "text/html": [
       "<div>\n",
       "<style scoped>\n",
       "    .dataframe tbody tr th:only-of-type {\n",
       "        vertical-align: middle;\n",
       "    }\n",
       "\n",
       "    .dataframe tbody tr th {\n",
       "        vertical-align: top;\n",
       "    }\n",
       "\n",
       "    .dataframe thead th {\n",
       "        text-align: right;\n",
       "    }\n",
       "</style>\n",
       "<table border=\"1\" class=\"dataframe\">\n",
       "  <thead>\n",
       "    <tr style=\"text-align: right;\">\n",
       "      <th></th>\n",
       "      <th>target</th>\n",
       "      <th>horizon</th>\n",
       "    </tr>\n",
       "  </thead>\n",
       "  <tbody>\n",
       "    <tr>\n",
       "      <th>0</th>\n",
       "      <td>DAX</td>\n",
       "      <td>1 day</td>\n",
       "    </tr>\n",
       "    <tr>\n",
       "      <th>1</th>\n",
       "      <td>DAX</td>\n",
       "      <td>2 day</td>\n",
       "    </tr>\n",
       "    <tr>\n",
       "      <th>2</th>\n",
       "      <td>DAX</td>\n",
       "      <td>5 day</td>\n",
       "    </tr>\n",
       "    <tr>\n",
       "      <th>3</th>\n",
       "      <td>DAX</td>\n",
       "      <td>6 day</td>\n",
       "    </tr>\n",
       "    <tr>\n",
       "      <th>4</th>\n",
       "      <td>DAX</td>\n",
       "      <td>7 day</td>\n",
       "    </tr>\n",
       "    <tr>\n",
       "      <th>5</th>\n",
       "      <td>temperature</td>\n",
       "      <td>36 hour</td>\n",
       "    </tr>\n",
       "    <tr>\n",
       "      <th>6</th>\n",
       "      <td>temperature</td>\n",
       "      <td>48 hour</td>\n",
       "    </tr>\n",
       "    <tr>\n",
       "      <th>7</th>\n",
       "      <td>temperature</td>\n",
       "      <td>60 hour</td>\n",
       "    </tr>\n",
       "    <tr>\n",
       "      <th>8</th>\n",
       "      <td>temperature</td>\n",
       "      <td>72 hour</td>\n",
       "    </tr>\n",
       "    <tr>\n",
       "      <th>9</th>\n",
       "      <td>temperature</td>\n",
       "      <td>80 hour</td>\n",
       "    </tr>\n",
       "    <tr>\n",
       "      <th>10</th>\n",
       "      <td>wind</td>\n",
       "      <td>36 hour</td>\n",
       "    </tr>\n",
       "    <tr>\n",
       "      <th>11</th>\n",
       "      <td>wind</td>\n",
       "      <td>48 hour</td>\n",
       "    </tr>\n",
       "    <tr>\n",
       "      <th>12</th>\n",
       "      <td>wind</td>\n",
       "      <td>60 hour</td>\n",
       "    </tr>\n",
       "    <tr>\n",
       "      <th>13</th>\n",
       "      <td>wind</td>\n",
       "      <td>72 hour</td>\n",
       "    </tr>\n",
       "    <tr>\n",
       "      <th>14</th>\n",
       "      <td>wind</td>\n",
       "      <td>80 hour</td>\n",
       "    </tr>\n",
       "  </tbody>\n",
       "</table>\n",
       "</div>"
      ],
      "text/plain": [
       "         target  horizon\n",
       "0           DAX    1 day\n",
       "1           DAX    2 day\n",
       "2           DAX    5 day\n",
       "3           DAX    6 day\n",
       "4           DAX    7 day\n",
       "5   temperature  36 hour\n",
       "6   temperature  48 hour\n",
       "7   temperature  60 hour\n",
       "8   temperature  72 hour\n",
       "9   temperature  80 hour\n",
       "10         wind  36 hour\n",
       "11         wind  48 hour\n",
       "12         wind  60 hour\n",
       "13         wind  72 hour\n",
       "14         wind  80 hour"
      ]
     },
     "execution_count": 6,
     "metadata": {},
     "output_type": "execute_result"
    }
   ],
   "source": [
    "Standard_df\n",
    "\n"
   ]
  },
  {
   "cell_type": "code",
   "execution_count": 10,
   "metadata": {
    "id": "BcfbNVrrI8RG"
   },
   "outputs": [],
   "source": [
    "def CreateOutput(Forecast_DAX, Forecast_temperature, Forecast_wind, Submission_Date):\n",
    "  \"\"\"Returns the CSV File containing next weeks forecasts\n",
    "\n",
    "  Parameters:\n",
    "\n",
    "  Forecast_DAX (Pandas DataFrame): DataFrame containing 2,5%, 25%, 50%, 75% and 97,5% Quantile for Day 1, 2, 5, 6, 7 DAX Forecast\n",
    "  Forecast_temperature (Pandas DataFrame): DataFrame containing 2,5%, 25%, 50%, 75% and 97,5% Quantile for 36, 48 hour, 60 hour, 72 hour, 84 hour Temperature Forecast\n",
    "  Forecast_wind (Pandas DataFrame):DataFrame containing 2,5%, 25%, 50%, 75% and 97,5% Quantile for 36, 48 hour, 60 hour, 72 hour, 84 hour Wind Forecast\n",
    "  Submission_Date (String): Submission Date in the form yyyy-mm-dd\n",
    "\n",
    "  Returns:\n",
    "\n",
    "  Output_CSV: The CSV file according to all course requirements\"\"\"\n",
    "\n",
    "  Submission_Date_df = pd.DataFrame({'forecast_date': [Submission_Date]*15})\n",
    "  Standard_df = pd.DataFrame({'target': [\"DAX\"]*5 + [\"temperature\"]*5 + [\"wind\"]*5, 'horizon': [\"1 day\", \"2 day\", \"5 day\", \"6 day\", \"7 day\", \"36 hour\", \"48 hour\", \"60 hour\", \"72 hour\", \"84 hour\", \"36 hour\", \"48 hour\", \"60 hour\", \"72 hour\", \"84 hour\"]})\n",
    "  frames= [Forecast_DAX, Forecast_temperature, Forecast_wind]\n",
    "  Forecast_df = pd.concat(frames)\n",
    "\n",
    "  Forecast_df.reset_index(drop=True, inplace=True)\n",
    "\n",
    "  Complete_df =pd.concat([Submission_Date_df, Standard_df, Forecast_df], axis = 1)\n",
    "\n",
    "\n",
    "  Output_CSV = Complete_df.to_csv(r'/Users/finnbrunnenkant/Desktop/Master KIT/Semester 4/Probalistic TS/Predictions/Week_11/20220119_Joffrey_Baratheon.csv', index = False)\n",
    "\n",
    "  return Complete_df, Output_CSV\n"
   ]
  },
  {
   "cell_type": "code",
   "execution_count": 8,
   "metadata": {},
   "outputs": [],
   "source": [
    "def CreateOutput_DAX(Forecast_DAX, Submission_Date):\n",
    "  \"\"\"Returns the CSV File containing next weeks forecasts\n",
    "\n",
    "  Parameters:\n",
    "\n",
    "  Forecast_DAX (Pandas DataFrame): DataFrame containing 2,5%, 25%, 50%, 75% and 97,5% Quantile for Day 1, 2, 5, 6, 7 DAX Forecast\n",
    "  Forecast_temperature (Pandas DataFrame): DataFrame containing 2,5%, 25%, 50%, 75% and 97,5% Quantile for 36, 48 hour, 60 hour, 72 hour, 84 hour Temperature Forecast\n",
    "  Forecast_wind (Pandas DataFrame):DataFrame containing 2,5%, 25%, 50%, 75% and 97,5% Quantile for 36, 48 hour, 60 hour, 72 hour, 84 hour Wind Forecast\n",
    "  Submission_Date (String): Submission Date in the form yyyy-mm-dd\n",
    "\n",
    "  Returns:\n",
    "\n",
    "  Output_CSV: The CSV file according to all course requirements\"\"\"\n",
    "\n",
    "  Submission_Date_df = pd.DataFrame({'forecast_date': [Submission_Date]*5})\n",
    "  Standard_dax_df = pd.DataFrame({'target': [\"DAX\"]*5 , 'horizon': [\"1 day\", \"2 day\", \"5 day\", \"6 day\", \"7 day\"]})\n",
    "  frames= [Forecast_DAX]\n",
    "  Forecast_df = pd.concat(frames)\n",
    "\n",
    "  Forecast_df.reset_index(drop=True, inplace=True)\n",
    "\n",
    "  Complete_df =pd.concat([Submission_Date_df, Standard_dax_df, Forecast_df], axis = 1)\n",
    "\n",
    "  Output_CSV = Complete_df.to_csv(r'/Users/finnbrunnenkant/Desktop/Master KIT/Semester 4/Probalistic TS/Predictions/Week_2/20211103_Joffrey_Baratheon.csv', index = False)\n",
    "\n",
    "  return Complete_df, Output_CSV"
   ]
  },
  {
   "cell_type": "code",
   "execution_count": 8,
   "metadata": {},
   "outputs": [
    {
     "data": {
      "text/plain": [
       "'2022-01-19'"
      ]
     },
     "execution_count": 8,
     "metadata": {},
     "output_type": "execute_result"
    }
   ],
   "source": [
    "from datetime import datetime\n",
    "today = datetime.today().strftime('%Y-%m-%d')\n",
    "today "
   ]
  },
  {
   "cell_type": "code",
   "execution_count": 11,
   "metadata": {
    "id": "Z3rDW8OUuJUv"
   },
   "outputs": [],
   "source": [
    "Complete_df, Output_CSV = CreateOutput(DAX_new, temp_df, wind_df, today)\n",
    "\n",
    "Output_CSV\n",
    "\n",
    "\n",
    "\n"
   ]
  },
  {
   "cell_type": "code",
   "execution_count": null,
   "metadata": {},
   "outputs": [],
   "source": []
  },
  {
   "cell_type": "code",
   "execution_count": 11,
   "metadata": {
    "id": "lcw6uQ0mQVxo"
   },
   "outputs": [],
   "source": [
    "from datetime import datetime\n",
    "def check_df(df):\n",
    "    EXPECTED_COLS = [\"forecast_date\", \"target\", \"horizon\", \"q0.025\", \"q0.25\", \n",
    "                    \"q0.5\", \"q0.75\", \"q0.975\"]\n",
    "    LEN_EXP_COLS = len(EXPECTED_COLS)\n",
    "\n",
    "    TARGETS = [\"DAX\", \"temperature\", \"wind\"]\n",
    "\n",
    "    TARGET_VALS = dict(DAX = [\"1 day\", \"2 day\", \"5 day\", \"6 day\", \"7 day\"],\n",
    "                    temperature = [str(i) + \" hour\" for i in np.arange(36,92,12)],\n",
    "                    wind = [str(i) + \" hour\" for i in np.arange(36,92,12)])\n",
    "\n",
    "    TARGET_PLAUS = dict(DAX = [-20, 20],\n",
    "                        temperature = [-30,50],\n",
    "                        wind = [0,300])\n",
    "\n",
    "    COLS_QUANTILES = [\"q0.025\", \"q0.25\", \"q0.5\", \"q0.75\", \"q0.975\"]\n",
    "\n",
    "    print(\"Start checking...\")\n",
    "    print(\"---------------------------\")\n",
    "    col_names = df.columns\n",
    "\n",
    "\n",
    "    #%%\n",
    "    print(\"Checking the Columns...\")\n",
    "    # Check column length\n",
    "    if len(col_names) != LEN_EXP_COLS:\n",
    "        print(\"Dataset contains \",len(col_names), \"columns. Required are\",LEN_EXP_COLS)\n",
    "        print(\"Stopping early...\")\n",
    "        quit()\n",
    "\n",
    "    if set(col_names) != set(EXPECTED_COLS):\n",
    "        print(\"Dataset does not contain the required columns (or more).\")\n",
    "        missing_cols = set(EXPECTED_COLS) - set(col_names)\n",
    "        print(\"The missing columns are:\", missing_cols)\n",
    "        print(\"Stopping early...\")\n",
    "        quit()\n",
    "\n",
    "    for i,col in enumerate(EXPECTED_COLS):\n",
    "        if col == col_names[i]:\n",
    "            continue\n",
    "        else:\n",
    "            print(\"Columns not in correct order. Order should be:\", EXPECTED_COLS)\n",
    "            print(\"Your order is:\", col_names.values)\n",
    "            print(\"Stopping early...\")\n",
    "            quit()\n",
    "\n",
    "    #%%\n",
    "    # Date Col\n",
    "    print(\"Checking type of columns...\")\n",
    "    try:\n",
    "        df[\"forecast_date\"] = pd.to_datetime(df[\"forecast_date\"], format=\"%Y-%m-%d\",\n",
    "                                            errors=\"raise\")\n",
    "    except (pd.errors.ParserError, ValueError):\n",
    "        print(\"Could not parse Date in format YYYY-MM-DD\")\n",
    "        print(\"Stopping early...\")\n",
    "        quit()\n",
    "\n",
    "    try:\n",
    "        df[\"target\"] = df[\"target\"].astype(\"object\", errors=\"raise\")\n",
    "    except ValueError:\n",
    "        print(\"Cannot convert target column to String.\")\n",
    "        print(\"Stopping early...\")\n",
    "        quit()\n",
    "\n",
    "    try:\n",
    "        df[\"horizon\"] = df[\"horizon\"].astype(\"object\", errors=\"raise\")\n",
    "    except ValueError:\n",
    "        print(\"Cannot convert horizon column to String.\")\n",
    "        print(\"Stopping early...\")\n",
    "        quit()\n",
    "\n",
    "    for cq in COLS_QUANTILES:\n",
    "        if pd.to_numeric(df[cq], errors=\"coerce\").isna().any():\n",
    "            print(\"Some elements in\",cq,\"column are not numeric.\")\n",
    "            print(\"Stopping early...\")\n",
    "            quit() \n",
    "\n",
    "    # %%\n",
    "    print(\"Checking if the Dates make sense...\")\n",
    "\n",
    "    if len(pd.unique(df[\"forecast_date\"])) > 1:\n",
    "        print(\"forecast_date needs to be the same in all rows.\")\n",
    "        print(\"Stopping early...\")\n",
    "        quit()\n",
    "\n",
    "    if df[\"forecast_date\"][0] < datetime.today():\n",
    "        print(\"----WARNING: Forecast date should not be in the past\")\n",
    "        # warnings.warn(\"Forecast date should not be in the past.\")\n",
    "\n",
    "    if df[\"forecast_date\"][0].weekday() != 2:\n",
    "        print(\"----WARNING: Forecast date should be a Wednesday\")\n",
    "        # warnings.warn(\"Forecast date should be a Wednesday\")\n",
    "        \n",
    "    print(\"Checking targets...\")\n",
    "\n",
    "    if not df[\"target\"].isin(TARGETS).all():\n",
    "        print(\"Target column can only contain 'DAX', 'temperature' and 'wind'. Check spelling.\")\n",
    "        print(\"Stopping early...\")\n",
    "        quit()\n",
    "        \n",
    "    for target in TARGETS:\n",
    "        \n",
    "        if len(df[df[\"target\"] == target]) != 5:\n",
    "            print(\"Exactly 5 rows need to have target =\", target)\n",
    "            print(\"Stopping early...\")\n",
    "            quit()\n",
    "        \n",
    "        if (df[df[\"target\"] == target][\"horizon\"] != TARGET_VALS[target]).any():\n",
    "            print(\"Target\", target, \"horizons need to be (in this order):\", TARGET_VALS[target])\n",
    "            print(\"Stopping early...\")\n",
    "            quit()\n",
    "        \n",
    "        if (df[df[\"target\"] == target][COLS_QUANTILES] < TARGET_PLAUS[target][0]).any(axis=None) or \\\n",
    "            (df[df[\"target\"] == target][COLS_QUANTILES] > TARGET_PLAUS[target][1]).any(axis=None):\n",
    "            print(\"----WARNING: Implausible values for\",target,\"detected. You may want to re-check.\")\n",
    "            # warnings.warn(\"Implausible values for \"+str(target)+\" detected. You may want to re-check them.\")\n",
    "\n",
    "    print(\"Checking quantiles...\")\n",
    "\n",
    "    for i, row in df.iterrows():\n",
    "        diffs = row[COLS_QUANTILES].diff()\n",
    "        if diffs[1:].isna().any():\n",
    "            print(\"Something is wrong with your quantiles.\")\n",
    "            print(\"Stopping early...\")\n",
    "            quit()\n",
    "        diffs[0] = 0\n",
    "        if (diffs < 0).any():\n",
    "            print(\"Predictive quantiles in row\",i,\"are not ordered correctly (need to be non-decreasing)\")\n",
    "            print(\"Stopping early...\")\n",
    "            quit()\n",
    "\n",
    "    print(\"---------------------------\")\n",
    "    print(\"Looks good!\")"
   ]
  },
  {
   "cell_type": "code",
   "execution_count": 12,
   "metadata": {
    "colab": {
     "base_uri": "https://localhost:8080/"
    },
    "id": "d0nc7PTuQX8O",
    "outputId": "8b05ed9b-0000-4eab-e2cd-7d747155ed9c"
   },
   "outputs": [
    {
     "name": "stdout",
     "output_type": "stream",
     "text": [
      "Start checking...\n",
      "---------------------------\n",
      "Checking the Columns...\n",
      "Checking type of columns...\n",
      "Checking if the Dates make sense...\n",
      "----WARNING: Forecast date should not be in the past\n",
      "Checking targets...\n",
      "Checking quantiles...\n",
      "---------------------------\n",
      "Looks good!\n"
     ]
    }
   ],
   "source": [
    "check_df(Complete_df)"
   ]
  },
  {
   "cell_type": "code",
   "execution_count": 13,
   "metadata": {
    "colab": {
     "base_uri": "https://localhost:8080/"
    },
    "id": "Mbf-tycuBx1t",
    "outputId": "e2976100-e233-40bd-d741-40f211751ed3"
   },
   "outputs": [
    {
     "ename": "FileNotFoundError",
     "evalue": "[Errno 2] No such file or directory: '20211020_ChandlerBing.csv'",
     "output_type": "error",
     "traceback": [
      "\u001b[0;31m---------------------------------------------------------------------------\u001b[0m",
      "\u001b[0;31mFileNotFoundError\u001b[0m                         Traceback (most recent call last)",
      "\u001b[0;32m<ipython-input-13-1f07482f6270>\u001b[0m in \u001b[0;36m<module>\u001b[0;34m\u001b[0m\n\u001b[0;32m----> 1\u001b[0;31m \u001b[0mdf\u001b[0m \u001b[0;34m=\u001b[0m \u001b[0mpd\u001b[0m\u001b[0;34m.\u001b[0m\u001b[0mread_csv\u001b[0m\u001b[0;34m(\u001b[0m\u001b[0;34m\"20211020_ChandlerBing.csv\"\u001b[0m\u001b[0;34m)\u001b[0m\u001b[0;34m\u001b[0m\u001b[0;34m\u001b[0m\u001b[0m\n\u001b[0m\u001b[1;32m      2\u001b[0m \u001b[0mcheck_df\u001b[0m\u001b[0;34m(\u001b[0m\u001b[0mdf\u001b[0m\u001b[0;34m)\u001b[0m\u001b[0;34m\u001b[0m\u001b[0;34m\u001b[0m\u001b[0m\n",
      "\u001b[0;32m/Applications/anaconda3/envs/pyUdemy/lib/python3.8/site-packages/pandas/io/parsers.py\u001b[0m in \u001b[0;36mread_csv\u001b[0;34m(filepath_or_buffer, sep, delimiter, header, names, index_col, usecols, squeeze, prefix, mangle_dupe_cols, dtype, engine, converters, true_values, false_values, skipinitialspace, skiprows, skipfooter, nrows, na_values, keep_default_na, na_filter, verbose, skip_blank_lines, parse_dates, infer_datetime_format, keep_date_col, date_parser, dayfirst, cache_dates, iterator, chunksize, compression, thousands, decimal, lineterminator, quotechar, quoting, doublequote, escapechar, comment, encoding, dialect, error_bad_lines, warn_bad_lines, delim_whitespace, low_memory, memory_map, float_precision, storage_options)\u001b[0m\n\u001b[1;32m    603\u001b[0m     \u001b[0mkwds\u001b[0m\u001b[0;34m.\u001b[0m\u001b[0mupdate\u001b[0m\u001b[0;34m(\u001b[0m\u001b[0mkwds_defaults\u001b[0m\u001b[0;34m)\u001b[0m\u001b[0;34m\u001b[0m\u001b[0;34m\u001b[0m\u001b[0m\n\u001b[1;32m    604\u001b[0m \u001b[0;34m\u001b[0m\u001b[0m\n\u001b[0;32m--> 605\u001b[0;31m     \u001b[0;32mreturn\u001b[0m \u001b[0m_read\u001b[0m\u001b[0;34m(\u001b[0m\u001b[0mfilepath_or_buffer\u001b[0m\u001b[0;34m,\u001b[0m \u001b[0mkwds\u001b[0m\u001b[0;34m)\u001b[0m\u001b[0;34m\u001b[0m\u001b[0;34m\u001b[0m\u001b[0m\n\u001b[0m\u001b[1;32m    606\u001b[0m \u001b[0;34m\u001b[0m\u001b[0m\n\u001b[1;32m    607\u001b[0m \u001b[0;34m\u001b[0m\u001b[0m\n",
      "\u001b[0;32m/Applications/anaconda3/envs/pyUdemy/lib/python3.8/site-packages/pandas/io/parsers.py\u001b[0m in \u001b[0;36m_read\u001b[0;34m(filepath_or_buffer, kwds)\u001b[0m\n\u001b[1;32m    455\u001b[0m \u001b[0;34m\u001b[0m\u001b[0m\n\u001b[1;32m    456\u001b[0m     \u001b[0;31m# Create the parser.\u001b[0m\u001b[0;34m\u001b[0m\u001b[0;34m\u001b[0m\u001b[0;34m\u001b[0m\u001b[0m\n\u001b[0;32m--> 457\u001b[0;31m     \u001b[0mparser\u001b[0m \u001b[0;34m=\u001b[0m \u001b[0mTextFileReader\u001b[0m\u001b[0;34m(\u001b[0m\u001b[0mfilepath_or_buffer\u001b[0m\u001b[0;34m,\u001b[0m \u001b[0;34m**\u001b[0m\u001b[0mkwds\u001b[0m\u001b[0;34m)\u001b[0m\u001b[0;34m\u001b[0m\u001b[0;34m\u001b[0m\u001b[0m\n\u001b[0m\u001b[1;32m    458\u001b[0m \u001b[0;34m\u001b[0m\u001b[0m\n\u001b[1;32m    459\u001b[0m     \u001b[0;32mif\u001b[0m \u001b[0mchunksize\u001b[0m \u001b[0;32mor\u001b[0m \u001b[0miterator\u001b[0m\u001b[0;34m:\u001b[0m\u001b[0;34m\u001b[0m\u001b[0;34m\u001b[0m\u001b[0m\n",
      "\u001b[0;32m/Applications/anaconda3/envs/pyUdemy/lib/python3.8/site-packages/pandas/io/parsers.py\u001b[0m in \u001b[0;36m__init__\u001b[0;34m(self, f, engine, **kwds)\u001b[0m\n\u001b[1;32m    812\u001b[0m             \u001b[0mself\u001b[0m\u001b[0;34m.\u001b[0m\u001b[0moptions\u001b[0m\u001b[0;34m[\u001b[0m\u001b[0;34m\"has_index_names\"\u001b[0m\u001b[0;34m]\u001b[0m \u001b[0;34m=\u001b[0m \u001b[0mkwds\u001b[0m\u001b[0;34m[\u001b[0m\u001b[0;34m\"has_index_names\"\u001b[0m\u001b[0;34m]\u001b[0m\u001b[0;34m\u001b[0m\u001b[0;34m\u001b[0m\u001b[0m\n\u001b[1;32m    813\u001b[0m \u001b[0;34m\u001b[0m\u001b[0m\n\u001b[0;32m--> 814\u001b[0;31m         \u001b[0mself\u001b[0m\u001b[0;34m.\u001b[0m\u001b[0m_engine\u001b[0m \u001b[0;34m=\u001b[0m \u001b[0mself\u001b[0m\u001b[0;34m.\u001b[0m\u001b[0m_make_engine\u001b[0m\u001b[0;34m(\u001b[0m\u001b[0mself\u001b[0m\u001b[0;34m.\u001b[0m\u001b[0mengine\u001b[0m\u001b[0;34m)\u001b[0m\u001b[0;34m\u001b[0m\u001b[0;34m\u001b[0m\u001b[0m\n\u001b[0m\u001b[1;32m    815\u001b[0m \u001b[0;34m\u001b[0m\u001b[0m\n\u001b[1;32m    816\u001b[0m     \u001b[0;32mdef\u001b[0m \u001b[0mclose\u001b[0m\u001b[0;34m(\u001b[0m\u001b[0mself\u001b[0m\u001b[0;34m)\u001b[0m\u001b[0;34m:\u001b[0m\u001b[0;34m\u001b[0m\u001b[0;34m\u001b[0m\u001b[0m\n",
      "\u001b[0;32m/Applications/anaconda3/envs/pyUdemy/lib/python3.8/site-packages/pandas/io/parsers.py\u001b[0m in \u001b[0;36m_make_engine\u001b[0;34m(self, engine)\u001b[0m\n\u001b[1;32m   1043\u001b[0m             )\n\u001b[1;32m   1044\u001b[0m         \u001b[0;31m# error: Too many arguments for \"ParserBase\"\u001b[0m\u001b[0;34m\u001b[0m\u001b[0;34m\u001b[0m\u001b[0;34m\u001b[0m\u001b[0m\n\u001b[0;32m-> 1045\u001b[0;31m         \u001b[0;32mreturn\u001b[0m \u001b[0mmapping\u001b[0m\u001b[0;34m[\u001b[0m\u001b[0mengine\u001b[0m\u001b[0;34m]\u001b[0m\u001b[0;34m(\u001b[0m\u001b[0mself\u001b[0m\u001b[0;34m.\u001b[0m\u001b[0mf\u001b[0m\u001b[0;34m,\u001b[0m \u001b[0;34m**\u001b[0m\u001b[0mself\u001b[0m\u001b[0;34m.\u001b[0m\u001b[0moptions\u001b[0m\u001b[0;34m)\u001b[0m  \u001b[0;31m# type: ignore[call-arg]\u001b[0m\u001b[0;34m\u001b[0m\u001b[0;34m\u001b[0m\u001b[0m\n\u001b[0m\u001b[1;32m   1046\u001b[0m \u001b[0;34m\u001b[0m\u001b[0m\n\u001b[1;32m   1047\u001b[0m     \u001b[0;32mdef\u001b[0m \u001b[0m_failover_to_python\u001b[0m\u001b[0;34m(\u001b[0m\u001b[0mself\u001b[0m\u001b[0;34m)\u001b[0m\u001b[0;34m:\u001b[0m\u001b[0;34m\u001b[0m\u001b[0;34m\u001b[0m\u001b[0m\n",
      "\u001b[0;32m/Applications/anaconda3/envs/pyUdemy/lib/python3.8/site-packages/pandas/io/parsers.py\u001b[0m in \u001b[0;36m__init__\u001b[0;34m(self, src, **kwds)\u001b[0m\n\u001b[1;32m   1860\u001b[0m \u001b[0;34m\u001b[0m\u001b[0m\n\u001b[1;32m   1861\u001b[0m         \u001b[0;31m# open handles\u001b[0m\u001b[0;34m\u001b[0m\u001b[0;34m\u001b[0m\u001b[0;34m\u001b[0m\u001b[0m\n\u001b[0;32m-> 1862\u001b[0;31m         \u001b[0mself\u001b[0m\u001b[0;34m.\u001b[0m\u001b[0m_open_handles\u001b[0m\u001b[0;34m(\u001b[0m\u001b[0msrc\u001b[0m\u001b[0;34m,\u001b[0m \u001b[0mkwds\u001b[0m\u001b[0;34m)\u001b[0m\u001b[0;34m\u001b[0m\u001b[0;34m\u001b[0m\u001b[0m\n\u001b[0m\u001b[1;32m   1863\u001b[0m         \u001b[0;32massert\u001b[0m \u001b[0mself\u001b[0m\u001b[0;34m.\u001b[0m\u001b[0mhandles\u001b[0m \u001b[0;32mis\u001b[0m \u001b[0;32mnot\u001b[0m \u001b[0;32mNone\u001b[0m\u001b[0;34m\u001b[0m\u001b[0;34m\u001b[0m\u001b[0m\n\u001b[1;32m   1864\u001b[0m         \u001b[0;32mfor\u001b[0m \u001b[0mkey\u001b[0m \u001b[0;32min\u001b[0m \u001b[0;34m(\u001b[0m\u001b[0;34m\"storage_options\"\u001b[0m\u001b[0;34m,\u001b[0m \u001b[0;34m\"encoding\"\u001b[0m\u001b[0;34m,\u001b[0m \u001b[0;34m\"memory_map\"\u001b[0m\u001b[0;34m,\u001b[0m \u001b[0;34m\"compression\"\u001b[0m\u001b[0;34m)\u001b[0m\u001b[0;34m:\u001b[0m\u001b[0;34m\u001b[0m\u001b[0;34m\u001b[0m\u001b[0m\n",
      "\u001b[0;32m/Applications/anaconda3/envs/pyUdemy/lib/python3.8/site-packages/pandas/io/parsers.py\u001b[0m in \u001b[0;36m_open_handles\u001b[0;34m(self, src, kwds)\u001b[0m\n\u001b[1;32m   1355\u001b[0m         \u001b[0mLet\u001b[0m \u001b[0mthe\u001b[0m \u001b[0mreaders\u001b[0m \u001b[0mopen\u001b[0m \u001b[0mIOHanldes\u001b[0m \u001b[0mafter\u001b[0m \u001b[0mthey\u001b[0m \u001b[0mare\u001b[0m \u001b[0mdone\u001b[0m \u001b[0;32mwith\u001b[0m \u001b[0mtheir\u001b[0m \u001b[0mpotential\u001b[0m \u001b[0mraises\u001b[0m\u001b[0;34m.\u001b[0m\u001b[0;34m\u001b[0m\u001b[0;34m\u001b[0m\u001b[0m\n\u001b[1;32m   1356\u001b[0m         \"\"\"\n\u001b[0;32m-> 1357\u001b[0;31m         self.handles = get_handle(\n\u001b[0m\u001b[1;32m   1358\u001b[0m             \u001b[0msrc\u001b[0m\u001b[0;34m,\u001b[0m\u001b[0;34m\u001b[0m\u001b[0;34m\u001b[0m\u001b[0m\n\u001b[1;32m   1359\u001b[0m             \u001b[0;34m\"r\"\u001b[0m\u001b[0;34m,\u001b[0m\u001b[0;34m\u001b[0m\u001b[0;34m\u001b[0m\u001b[0m\n",
      "\u001b[0;32m/Applications/anaconda3/envs/pyUdemy/lib/python3.8/site-packages/pandas/io/common.py\u001b[0m in \u001b[0;36mget_handle\u001b[0;34m(path_or_buf, mode, encoding, compression, memory_map, is_text, errors, storage_options)\u001b[0m\n\u001b[1;32m    640\u001b[0m                 \u001b[0merrors\u001b[0m \u001b[0;34m=\u001b[0m \u001b[0;34m\"replace\"\u001b[0m\u001b[0;34m\u001b[0m\u001b[0;34m\u001b[0m\u001b[0m\n\u001b[1;32m    641\u001b[0m             \u001b[0;31m# Encoding\u001b[0m\u001b[0;34m\u001b[0m\u001b[0;34m\u001b[0m\u001b[0;34m\u001b[0m\u001b[0m\n\u001b[0;32m--> 642\u001b[0;31m             handle = open(\n\u001b[0m\u001b[1;32m    643\u001b[0m                 \u001b[0mhandle\u001b[0m\u001b[0;34m,\u001b[0m\u001b[0;34m\u001b[0m\u001b[0;34m\u001b[0m\u001b[0m\n\u001b[1;32m    644\u001b[0m                 \u001b[0mioargs\u001b[0m\u001b[0;34m.\u001b[0m\u001b[0mmode\u001b[0m\u001b[0;34m,\u001b[0m\u001b[0;34m\u001b[0m\u001b[0;34m\u001b[0m\u001b[0m\n",
      "\u001b[0;31mFileNotFoundError\u001b[0m: [Errno 2] No such file or directory: '20211020_ChandlerBing.csv'"
     ]
    }
   ],
   "source": [
    "df = pd.read_csv(\"20211020_ChandlerBing.csv\")\n",
    "check_df(df)"
   ]
  }
 ],
 "metadata": {
  "colab": {
   "collapsed_sections": [],
   "name": "Output Module_CSV File.ipynb",
   "provenance": []
  },
  "kernelspec": {
   "display_name": "Python 3",
   "language": "python",
   "name": "python3"
  },
  "language_info": {
   "codemirror_mode": {
    "name": "ipython",
    "version": 3
   },
   "file_extension": ".py",
   "mimetype": "text/x-python",
   "name": "python",
   "nbconvert_exporter": "python",
   "pygments_lexer": "ipython3",
   "version": "3.8.3"
  }
 },
 "nbformat": 4,
 "nbformat_minor": 1
}
