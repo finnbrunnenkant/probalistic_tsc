{
 "cells": [
  {
   "cell_type": "code",
   "execution_count": 48,
   "metadata": {},
   "outputs": [],
   "source": [
    "import numpy as np\n",
    "import pandas as pd\n",
    "import yfinance as yf \n",
    "\n",
    "import math\n",
    "import matplotlib as plt\n",
    "import matplotlib.pyplot as plt\n",
    "import sklearn\n",
    "\n",
    "from sklearn.linear_model import QuantileRegressor\n",
    "import pandas as pd\n",
    "import numpy as np\n",
    "\n",
    "import matplotlib as mpl\n",
    "import matplotlib.pyplot as plt\n",
    "import seaborn as sns\n",
    "\n",
    "import statsmodels.api as sm\n",
    "\n",
    "from scipy.stats import norm\n",
    "\n",
    "from sklearn import ensemble\n",
    "\n",
    "import tensorflow as tf\n",
    "from tensorflow import keras"
   ]
  },
  {
   "cell_type": "code",
   "execution_count": 49,
   "metadata": {},
   "outputs": [
    {
     "name": "stdout",
     "output_type": "stream",
     "text": [
      "[*********************100%***********************]  1 of 1 completed\n",
      "[*********************100%***********************]  1 of 1 completed\n"
     ]
    }
   ],
   "source": [
    "\n",
    "df_dax = yf.download(  # or pdr.get_data_yahoo(...\n",
    "        # tickers list or string as well\n",
    "        tickers = \"^GDAXI\")\n",
    "df_dax = pd.DataFrame(df_dax)\n",
    "\n",
    "data = df_dax\n",
    "from datetime import timedelta, date\n",
    "\n",
    "def daterange(date1, date2):\n",
    "    for n in range(int ((date2 - date1).days)+1):\n",
    "        yield date1 + timedelta(n)\n",
    "\n",
    "start_dt = date(1988,1,6)\n",
    "end_dt = date(2022,2,22)\n",
    "thursday = start_dt\n",
    "wednesday_dates = []\n",
    "weeks = []\n",
    "weekdays_1 = [3,4]\n",
    "weekdays_2 = [0,1,2] \n",
    "week_data_1 = []\n",
    "week_data_2 = []\n",
    "week_count = start_dt.isocalendar()[1] +1\n",
    "for dt in daterange(start_dt, end_dt):\n",
    "    if dt.weekday() == 3:\n",
    "        week_data= week_data_1 +week_data_2\n",
    "        weeks.append(week_data) \n",
    "         \n",
    "        wednesday_dates.append(thursday.strftime('%Y-%m-%d'))\n",
    "        thursday = dt \n",
    "\n",
    "\n",
    "        week_data_1 = []\n",
    "        week_data_2 = []\n",
    "        week_data = [] \n",
    "    #if dt.weekday() in [3,4] #dt.weekday() in [3,4] or dt.weekday() in [0,1,2] and dt.isocalendar()[1] == thursday.isocalendar()[1]+1:\n",
    "        #fill data\n",
    "        \n",
    "    if dt.weekday() in weekdays_1:  \n",
    "        try:\n",
    "            datum = data[\"Close\"][dt.strftime('%Y-%m-%d')]\n",
    "        except:\n",
    "            datum = math.nan\n",
    "        week_data_1.append(datum)\n",
    "\n",
    "    if dt.weekday() in weekdays_2 :  \n",
    "        try:\n",
    "            datum = data[\"Close\"][dt.strftime('%Y-%m-%d')]\n",
    "        except:\n",
    "            datum = math.nan\n",
    "        week_data_2.append(datum)    \n",
    "    \n",
    "    \"\"\"if dt.weekday() == 4:\n",
    "        week_data= week_data_1 +week_data_2\n",
    "        weeks.append(week_data)   \n",
    "        wednesday_dates.append(dt.strftime('%Y-%m-%d'))\n",
    "        \n",
    "                          # to print only the weekdates\"\"\"\n",
    "    \n",
    "      \n",
    "\n",
    "       \n",
    "\n",
    "dax_5days = pd.DataFrame(weeks,index=wednesday_dates)\n",
    "df_dax.Close[-10:]\n",
    "dax_5days\n",
    "df_vix = yf.download(  # or pdr.get_data_yahoo(...\n",
    "        # tickers list or string as well\n",
    "        tickers = \"^VIX\")\n",
    "from datetime import timedelta, date\n",
    "\n",
    "def daterange(date1, date2):\n",
    "    for n in range(int ((date2 - date1).days)+1):\n",
    "        yield date1 + timedelta(n)\n",
    "\n",
    "start_dt = date(1990,1,8)\n",
    "end_dt = date(2022,2,22)\n",
    "thursday = start_dt\n",
    "wednesday_dates = []\n",
    "data = df_vix\n",
    "weeks = []\n",
    "weekdays_1 = [3,4]\n",
    "weekdays_2 = [0,1,2] \n",
    "week_count = start_dt.isocalendar()[1] +1\n",
    "week_data_1 = [] \n",
    "week_data_2= [] \n",
    "for dt in daterange(start_dt, end_dt):\n",
    "    if dt.weekday() == 3:\n",
    "        week_data= week_data_1 +week_data_2\n",
    "        weeks.append(week_data) \n",
    "         \n",
    "        wednesday_dates.append(thursday.strftime('%Y-%m-%d'))\n",
    "        thursday = dt \n",
    "\n",
    "\n",
    "        week_data_1 = []\n",
    "        week_data_2 = []\n",
    "        week_data = [] \n",
    "    #if dt.weekday() in [3,4] #dt.weekday() in [3,4] or dt.weekday() in [0,1,2] and dt.isocalendar()[1] == thursday.isocalendar()[1]+1:\n",
    "        #fill data\n",
    "        \n",
    "    if dt.weekday() in weekdays_1:  \n",
    "        try:\n",
    "            datum = data[\"High\"][dt.strftime('%Y-%m-%d')]\n",
    "        except:\n",
    "            datum = math.nan\n",
    "        week_data_1.append(datum)\n",
    "\n",
    "    if dt.weekday() in weekdays_2 :  \n",
    "        try:\n",
    "            datum = data[\"High\"][dt.strftime('%Y-%m-%d')]\n",
    "        except:\n",
    "            datum = math.nan\n",
    "        week_data_2.append(datum)    \n",
    "\n",
    "    \n",
    "vix_5days = pd.DataFrame(weeks,index=wednesday_dates)\n",
    "vix_5days\n",
    "df_vix.High[-10:]\n",
    "vix_5days = vix_5days.drop(\"1990-01-08\", axis = 0)\n",
    "\n",
    "dax_5days = dax_5days.drop(\"1988-01-06\", axis = 0)\n",
    "dax_5days\n",
    "\n",
    "def compute_return(y_series, y):\n",
    "    returns = []\n",
    "    for dax_value in y_series: \n",
    "        y2 = dax_value # exclude first h observations\n",
    "        y1 = y \n",
    "        # exclude last h observations # compute h-step cumulative returns\n",
    "        returns.append(100*(math.log(y2)-math.log(y1)))\n",
    "    return returns\n",
    "returns_list = []\n",
    "datums = []\n",
    "old_value = df_dax.Close[\"1988-01-06\"]\n",
    "\n",
    "for datum, row in dax_5days.iterrows():\n",
    "    returns = compute_return(row,old_value)\n",
    "    datums.append(datum)\n",
    "    old_value = row[4]\n",
    "    \n",
    "    returns_list.append(returns)\n",
    "\n",
    "df_returns = pd.DataFrame(returns_list,datums)\n",
    "\n",
    "\n",
    "df_returns\n",
    "df_returns.columns =[\"1_Day_return\",\"2_Day_return\",\"3_Day_return\",\"4_Day_return\",\"5_Day_return\"]\n",
    "\n",
    "\n",
    "#df_returns.to_csv(\"/Users/finnbrunnenkant/Desktop/Master KIT/Semester 4/Probalistic TS/DAX/Dataframes/dax\")\n",
    "\n",
    "#df_returns.to_pickle(\"/Users/finnbrunnenkant/Desktop/Master KIT/Semester 4/Probalistic TS/DAX/Dataframes/dax_eval\")\n",
    "\n",
    "trainings_frame = pd.concat([df_returns,vix_5days],axis=1)\n",
    "x_data= trainings_frame.iloc[:, 5:]\n",
    "y_data = trainings_frame.iloc[:, :5]\n",
    "\n",
    "\n",
    "df_vix.High[-10:]\n",
    "#dax_5days.to_pickle(\"/Users/finnbrunnenkant/Desktop/Master KIT/Semester 4/Probalistic TS/DAX/Dataframes/dax_fivedays\")\n",
    "#vix_5days.to_pickle(\"/Users/finnbrunnenkant/Desktop/Master KIT/Semester 4/Probalistic TS/DAX/Dataframes/vix_fivedays\")\n",
    "#df_returns.to_pickle(\"/Users/finnbrunnenkant/Desktop/Master KIT/Semester 4/Probalistic TS/DAX/Dataframes/vix_fivedays\")\n",
    "y_train = y_data.loc[\"1990-01-04\":\"2021-07-01\"]\n",
    "x_train = x_data.loc[\"1990-01-04\":\"2021-07-01\"]\n",
    "\n",
    "y_test = y_data.loc[\"2021-07-01\":]\n",
    "x_test = x_data.loc[\"2021-07-01\":]\n",
    "\n"
   ]
  },
  {
   "cell_type": "code",
   "execution_count": 50,
   "metadata": {},
   "outputs": [],
   "source": [
    "def quantile_score(q,y,f):\n",
    "    if f>y:\n",
    "        score = 2*(1-q)*(f-y)\n",
    "    else:\n",
    "        score = 2*q*(y-f) \n",
    "    return score       "
   ]
  },
  {
   "cell_type": "code",
   "execution_count": 51,
   "metadata": {},
   "outputs": [],
   "source": [
    "# pandas version rather than Keras.\n",
    "def quantile_loss(q, y, f):\n",
    "    # q: Quantile to be evaluated, e.g., 0.5 for median.\n",
    "    # y: True value.\n",
    "    # f: Fitted or predicted value.\n",
    "    e = y - f\n",
    "    return np.maximum(q * e, (q - 1) * e)\n",
    "\n",
    "def tilted_loss(q, y, f):\n",
    "    e = (y - f)\n",
    "    return keras.backend.mean(keras.backend.maximum(q * e, (q - 1) * e), \n",
    "                              axis=-1)\n"
   ]
  },
  {
   "cell_type": "code",
   "execution_count": 52,
   "metadata": {},
   "outputs": [],
   "source": [
    "optimizer = tf.optimizers.Adam(0.001)\n",
    "\n",
    "early_stop = keras.callbacks.EarlyStopping(monitor='val_loss', patience=20)"
   ]
  },
  {
   "cell_type": "code",
   "execution_count": 53,
   "metadata": {},
   "outputs": [],
   "source": [
    "N_ESTIMATORS = 1000\n",
    "def gb_quantile(X_train, train_labels,X, q):\n",
    "    gbf = ensemble.GradientBoostingRegressor(loss='quantile', alpha=q,\n",
    "                                             n_estimators=N_ESTIMATORS,\n",
    "                                             max_depth=3,\n",
    "                                             learning_rate=0.1, min_samples_leaf=9,\n",
    "                                             min_samples_split=9)\n",
    "    gbf.fit(X_train, train_labels)\n",
    "    return gbf, gbf.predict(X)"
   ]
  },
  {
   "cell_type": "code",
   "execution_count": 54,
   "metadata": {},
   "outputs": [],
   "source": [
    "today = \"2022-01-21\""
   ]
  },
  {
   "cell_type": "code",
   "execution_count": 55,
   "metadata": {},
   "outputs": [],
   "source": [
    "x_train = x_train[1:]\n",
    "y_train = y_train[1:]"
   ]
  },
  {
   "cell_type": "code",
   "execution_count": 56,
   "metadata": {},
   "outputs": [],
   "source": [
    "x_train = x_train.interpolate(method='linear', limit_direction='forward', axis=0)\n",
    "y_train = y_train.interpolate(method='linear', limit_direction='forward', axis=0)\n",
    "\n",
    "x_test = x_test.interpolate(method='linear', limit_direction='forward', axis=0)\n",
    "\n",
    "\n",
    "x_train = x_train.interpolate(method='linear', limit_direction='forward', axis=1)\n",
    "y_train = y_train.interpolate(method='linear', limit_direction='forward', axis=1)\n",
    "\n",
    "x_test = x_test.interpolate(method='linear', limit_direction='forward', axis=1)"
   ]
  },
  {
   "cell_type": "code",
   "execution_count": 57,
   "metadata": {},
   "outputs": [],
   "source": [
    "x_test = df_vix[\"High\"][\"2022-01-14\":\"2022-01-21\"]"
   ]
  },
  {
   "cell_type": "code",
   "execution_count": 58,
   "metadata": {},
   "outputs": [
    {
     "data": {
      "text/plain": [
       "(1, 5)"
      ]
     },
     "execution_count": 58,
     "metadata": {},
     "output_type": "execute_result"
    }
   ],
   "source": [
    "x_test = np.array(x_test)\n",
    "x_test = x_test.reshape(-1,5)\n",
    "x_test.shape"
   ]
  },
  {
   "cell_type": "code",
   "execution_count": 59,
   "metadata": {},
   "outputs": [
    {
     "data": {
      "text/plain": [
       "(1643, 5)"
      ]
     },
     "execution_count": 59,
     "metadata": {},
     "output_type": "execute_result"
    }
   ],
   "source": [
    "x_train.shape"
   ]
  },
  {
   "cell_type": "code",
   "execution_count": 60,
   "metadata": {},
   "outputs": [
    {
     "data": {
      "text/plain": [
       "(1643,)"
      ]
     },
     "execution_count": 60,
     "metadata": {},
     "output_type": "execute_result"
    }
   ],
   "source": [
    "y_train[\"1_Day_return\"].shape\n"
   ]
  },
  {
   "cell_type": "code",
   "execution_count": 61,
   "metadata": {},
   "outputs": [],
   "source": [
    "QUANTILES = [0.025,0.25,0.5,0.75,0.975]\n",
    "#x_train = df_dax[\"vix\"][\"1990-01-02\":\"2021-07-01\"]\n",
    "x_train = np.array(x_train)\n",
    "\n",
    "#vix_sliding_window = np.lib.stride_tricks.sliding_window_view(x_train,5)\n",
    "#x_train =vix_sliding_window\n",
    "\n",
    " \n",
    "\n",
    "x_test = np.array(x_test)\n",
    "x_test = x_test.reshape(1,-1)\n",
    "results_gb = []\n",
    "\n",
    "for h in range(5):\n",
    "    train_data = y_train[f\"{h+1}_Day_return\"]\n",
    "    model_1, pred1 = gb_quantile(x_train, train_data,x_test, QUANTILES[0])\n",
    "    model_2, pred2 = gb_quantile(x_train, train_data,x_test,QUANTILES[1])\n",
    "    model_3, pred3 = gb_quantile(x_train, train_data,x_test, QUANTILES[2])\n",
    "    model_4, pred4 = gb_quantile(x_train, train_data,x_test, QUANTILES[3])\n",
    "    model_5, pred5 = gb_quantile(x_train, train_data,x_test, QUANTILES[4])\n",
    "\n",
    "    results_gb.append([pred1,pred2,pred3,pred4,pred5])\n",
    "    \n"
   ]
  },
  {
   "cell_type": "code",
   "execution_count": 62,
   "metadata": {},
   "outputs": [
    {
     "data": {
      "text/html": [
       "<div>\n",
       "<style scoped>\n",
       "    .dataframe tbody tr th:only-of-type {\n",
       "        vertical-align: middle;\n",
       "    }\n",
       "\n",
       "    .dataframe tbody tr th {\n",
       "        vertical-align: top;\n",
       "    }\n",
       "\n",
       "    .dataframe thead th {\n",
       "        text-align: right;\n",
       "    }\n",
       "</style>\n",
       "<table border=\"1\" class=\"dataframe\">\n",
       "  <thead>\n",
       "    <tr style=\"text-align: right;\">\n",
       "      <th></th>\n",
       "      <th>0</th>\n",
       "      <th>1</th>\n",
       "      <th>2</th>\n",
       "      <th>3</th>\n",
       "      <th>4</th>\n",
       "    </tr>\n",
       "  </thead>\n",
       "  <tbody>\n",
       "    <tr>\n",
       "      <th>0</th>\n",
       "      <td>-2.481854</td>\n",
       "      <td>-1.441017</td>\n",
       "      <td>-0.384113</td>\n",
       "      <td>0.136817</td>\n",
       "      <td>3.075473</td>\n",
       "    </tr>\n",
       "    <tr>\n",
       "      <th>1</th>\n",
       "      <td>-3.1982</td>\n",
       "      <td>-1.470194</td>\n",
       "      <td>-0.968093</td>\n",
       "      <td>0.129073</td>\n",
       "      <td>3.342385</td>\n",
       "    </tr>\n",
       "    <tr>\n",
       "      <th>2</th>\n",
       "      <td>-4.135683</td>\n",
       "      <td>-2.997478</td>\n",
       "      <td>-2.745201</td>\n",
       "      <td>0.517519</td>\n",
       "      <td>4.540932</td>\n",
       "    </tr>\n",
       "    <tr>\n",
       "      <th>3</th>\n",
       "      <td>-7.223768</td>\n",
       "      <td>-3.957631</td>\n",
       "      <td>-2.091792</td>\n",
       "      <td>-1.646612</td>\n",
       "      <td>3.455177</td>\n",
       "    </tr>\n",
       "    <tr>\n",
       "      <th>4</th>\n",
       "      <td>-7.274845</td>\n",
       "      <td>-5.575503</td>\n",
       "      <td>-3.402575</td>\n",
       "      <td>-1.10115</td>\n",
       "      <td>4.584727</td>\n",
       "    </tr>\n",
       "  </tbody>\n",
       "</table>\n",
       "</div>"
      ],
      "text/plain": [
       "          0         1         2         3         4\n",
       "0 -2.481854 -1.441017 -0.384113  0.136817  3.075473\n",
       "1   -3.1982 -1.470194 -0.968093  0.129073  3.342385\n",
       "2 -4.135683 -2.997478 -2.745201  0.517519  4.540932\n",
       "3 -7.223768 -3.957631 -2.091792 -1.646612  3.455177\n",
       "4 -7.274845 -5.575503 -3.402575  -1.10115  4.584727"
      ]
     },
     "execution_count": 62,
     "metadata": {},
     "output_type": "execute_result"
    }
   ],
   "source": [
    "results_gb\n",
    "\n",
    "\n",
    "resluts = list(results_gb)\n",
    "\n",
    "results = pd.DataFrame(index = range(5),columns = range(5))\n",
    "for i in range(5):\n",
    "    for j in range(5):\n",
    "        results.iloc[i,j] = results_gb[i][j][0]\n",
    "        \n",
    "\n",
    "results \n",
    "\n",
    "\n",
    "\n",
    "results"
   ]
  },
  {
   "cell_type": "code",
   "execution_count": null,
   "metadata": {},
   "outputs": [],
   "source": [
    "results.to_csv(\"/Users/finnbrunnenkant/Desktop/Master KIT/Semester 4/Probalistic TS/Predictions/Week_14/DAX\",index=False,header=False)"
   ]
  }
 ],
 "metadata": {
  "kernelspec": {
   "display_name": "Python 3",
   "language": "python",
   "name": "python3"
  },
  "language_info": {
   "codemirror_mode": {
    "name": "ipython",
    "version": 3
   },
   "file_extension": ".py",
   "mimetype": "text/x-python",
   "name": "python",
   "nbconvert_exporter": "python",
   "pygments_lexer": "ipython3",
   "version": "3.8.5"
  }
 },
 "nbformat": 4,
 "nbformat_minor": 4
}
